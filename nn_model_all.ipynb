{
 "cells": [
  {
   "cell_type": "code",
   "execution_count": 1,
   "metadata": {},
   "outputs": [],
   "source": [
    "import pandas as pd\n",
    "import numpy as np\n",
    "\n",
    "from sklearn.preprocessing import StandardScaler\n",
    "from sklearn.model_selection import KFold\n",
    "from sklearn.model_selection import train_test_split\n",
    "from sklearn.metrics import accuracy_score, confusion_matrix\n",
    "from sklearn.metrics import roc_auc_score, roc_curve, auc\n",
    "\n",
    "import torch\n",
    "from torch.utils.data import Dataset, DataLoader, random_split\n",
    "import torch.nn as nn\n",
    "import torch.nn.functional as F\n",
    "\n",
    "from tqdm import tqdm\n",
    "import matplotlib.pyplot as plt\n",
    "import seaborn as sns\n",
    "\n",
    "pd.set_option('display.max_columns', None)\n",
    "pd.set_option('display.max_rows', None)\n",
    "\n",
    "#import data\n",
    "train_df = pd.read_csv('data/Recvidism_extra_feat_train.csv')\n",
    "test_df = pd.read_csv('data/Recvidism_extra_feat_test.csv')\n"
   ]
  },
  {
   "cell_type": "code",
   "execution_count": 2,
   "metadata": {},
   "outputs": [],
   "source": [
    "# Make Recidivism_Within_3years the last column in train data\n",
    "cols = [col for col in train_df.columns if col != 'Recidivism_Within_3years']\n",
    "cols.append('Recidivism_Within_3years')\n",
    "train_df = train_df[cols]\n",
    "\n",
    "# Make Recidivism_Within_3years the last column in test data\n",
    "cols = [col for col in test_df.columns if col != 'Recidivism_Within_3years']\n",
    "cols.append('Recidivism_Within_3years')\n",
    "test_df = test_df[cols]"
   ]
  },
  {
   "cell_type": "markdown",
   "metadata": {},
   "source": [
    "### MLP"
   ]
  },
  {
   "cell_type": "code",
   "execution_count": 3,
   "metadata": {},
   "outputs": [
    {
     "name": "stdout",
     "output_type": "stream",
     "text": [
      "Using cuda device\n"
     ]
    }
   ],
   "source": [
    "device = (\n",
    "    \"cuda\"\n",
    "    if torch.cuda.is_available()\n",
    "    else \"mps\"\n",
    "    if torch.backends.mps.is_available()\n",
    "    else \"cpu\"\n",
    ")\n",
    "print(f\"Using {device} device\")"
   ]
  },
  {
   "cell_type": "code",
   "execution_count": 4,
   "metadata": {},
   "outputs": [],
   "source": [
    "class DataFrameDataset(Dataset):\n",
    "    def __init__(self, dataframe):\n",
    "        \"\"\"\n",
    "        Args:\n",
    "            dataframe (pd.DataFrame): source data\n",
    "        \"\"\"\n",
    "        # Assuming the last column is the label\n",
    "        self.features = dataframe.iloc[:, :-1].values\n",
    "        self.labels = dataframe.iloc[:, -1].values\n",
    "\n",
    "    def __len__(self):\n",
    "        return len(self.features)\n",
    "\n",
    "    def __getitem__(self, idx):\n",
    "        if torch.is_tensor(idx):\n",
    "            idx = idx.tolist()\n",
    "\n",
    "        # Convert features and labels to tensors\n",
    "        features = torch.tensor(self.features[idx], dtype=torch.float32)\n",
    "        label = torch.tensor(self.labels[idx], dtype=torch.long)\n",
    "\n",
    "        return features, label\n"
   ]
  },
  {
   "cell_type": "code",
   "execution_count": 5,
   "metadata": {},
   "outputs": [],
   "source": [
    "#Convert pd dataframe to torch dataset\n",
    "train_dataset = DataFrameDataset(train_df)\n",
    "test_dataset = DataFrameDataset(train_df)\n",
    "\n",
    "# use 15% of training data for validation\n",
    "train_set_size = int(len(train_dataset) * 0.85)\n",
    "valid_set_size = len(train_dataset) - train_set_size\n",
    "train_set, valid_set = torch.utils.data.random_split(train_dataset, [train_set_size, valid_set_size], generator=torch.Generator().manual_seed(42))\n",
    "\n",
    "# DataLoaders\n",
    "train_loader = DataLoader(train_set, batch_size=256, shuffle=True)\n",
    "total_train_loader = DataLoader(train_dataset, batch_size=256, shuffle=True)\n",
    "val_loader = DataLoader(valid_set, batch_size=256, shuffle=False)\n",
    "test_loader = DataLoader(test_dataset, batch_size=256, shuffle=False)"
   ]
  },
  {
   "cell_type": "code",
   "execution_count": 10,
   "metadata": {},
   "outputs": [
    {
     "data": {
      "text/plain": [
       "(18028, 66)"
      ]
     },
     "execution_count": 10,
     "metadata": {},
     "output_type": "execute_result"
    }
   ],
   "source": [
    "train_df.shape"
   ]
  },
  {
   "cell_type": "code",
   "execution_count": 11,
   "metadata": {},
   "outputs": [],
   "source": [
    "class MLP(nn.Module):\n",
    "    def __init__(self):\n",
    "        super(MLP, self).__init__()\n",
    "        # Create fully connected layers (nn.Linear)\n",
    "        ### START CODE ###\n",
    "        self.fc1 = nn.Linear(65, 50)\n",
    "        self.fc2 = nn.Linear(50, 50)\n",
    "        self.fc3 = nn.Linear(50, 1)\n",
    "        ### END CODE ###\n",
    "\n",
    "    def forward(self, x):\n",
    "        ### START CODE ###\n",
    "        x = F.relu(self.fc1(x))\n",
    "        x = F.relu(self.fc2(x))\n",
    "        x = self.fc3(x)\n",
    "        ### END CODE ###\n",
    "        return x\n"
   ]
  },
  {
   "cell_type": "code",
   "execution_count": 12,
   "metadata": {},
   "outputs": [],
   "source": [
    "model = MLP()\n",
    "# Create the optimizer\n",
    "### START CODE ###\n",
    "optimizer = torch.optim.Adam(model.parameters(), lr=1e-3)\n",
    "### END CODE ###"
   ]
  },
  {
   "cell_type": "code",
   "execution_count": 13,
   "metadata": {},
   "outputs": [],
   "source": [
    "# Create the loss function instance\n",
    "criterion = torch.nn.BCEWithLogitsLoss()\n",
    "\n",
    "def train(model, loader, optimizer):\n",
    "    model.train()\n",
    "    total_loss = 0\n",
    "    total_num = 0\n",
    "    for data, target in tqdm(loader):\n",
    "        out = model(data)\n",
    "        # Calculate loss based on model output and target\n",
    "        ### START CODE ###\n",
    "        target = target.unsqueeze(1) \n",
    "        loss = criterion(out, target.float())\n",
    "        ### END CODE ###\n",
    "\n",
    "        # Use the optimizer to perform backpropagation\n",
    "        ### START CODE ###\n",
    "        optimizer.zero_grad()\n",
    "        loss.backward()\n",
    "        optimizer.step()\n",
    "        ### END CODE ###\n",
    "\n",
    "        batch_size = len(target)\n",
    "        total_loss += loss.item() * batch_size\n",
    "        total_num += batch_size\n",
    "    avg_loss = total_loss / total_num\n",
    "    return avg_loss\n",
    "\n",
    "@torch.no_grad()\n",
    "def eval(model, loader):\n",
    "    model.eval()\n",
    "    total_loss = 0\n",
    "    total_correct = 0\n",
    "    total_num = 0\n",
    "    for data, target in tqdm(loader):\n",
    "        out = model(data)\n",
    "        # Calculate loss based on model output and target\n",
    "        ### START CODE ###\n",
    "        target = target.unsqueeze(1) \n",
    "        loss = criterion(out, target.float())\n",
    "        ### END CODE ###\n",
    "\n",
    "        # Get model's prediction\n",
    "        ### START CODE ###\n",
    "        pred = torch.sigmoid(out) >= 0.5\n",
    "        ### END CODE ###\n",
    "\n",
    "        # Count number of correct predictions\n",
    "        ### START CODE ###\n",
    "        correct = (pred.float() == target.float()).sum().item()\n",
    "        ### END CODE ###\n",
    "\n",
    "        total_correct += correct\n",
    "        batch_size = len(target)\n",
    "        total_loss += loss.item() * batch_size\n",
    "        total_num += batch_size\n",
    "    avg_loss = total_loss / total_num\n",
    "    acc = total_correct / total_num\n",
    "    return avg_loss, acc\n"
   ]
  },
  {
   "cell_type": "code",
   "execution_count": 14,
   "metadata": {},
   "outputs": [
    {
     "name": "stderr",
     "output_type": "stream",
     "text": [
      "100%|██████████| 60/60 [00:00<00:00, 241.39it/s]\n",
      "100%|██████████| 11/11 [00:00<00:00, 423.52it/s]\n"
     ]
    },
    {
     "name": "stdout",
     "output_type": "stream",
     "text": [
      "Epoch: 1 Train Loss: 0.6519275237559681 Val Loss: 0.6330206875660063 Val Acc: 0.6473197781885397\n"
     ]
    },
    {
     "name": "stderr",
     "output_type": "stream",
     "text": [
      "100%|██████████| 60/60 [00:00<00:00, 228.12it/s]\n",
      "100%|██████████| 11/11 [00:00<00:00, 440.02it/s]\n"
     ]
    },
    {
     "name": "stdout",
     "output_type": "stream",
     "text": [
      "Epoch: 2 Train Loss: 0.6096134538253123 Val Loss: 0.5877523661761539 Val Acc: 0.6935304990757856\n"
     ]
    },
    {
     "name": "stderr",
     "output_type": "stream",
     "text": [
      "100%|██████████| 60/60 [00:00<00:00, 305.03it/s]\n",
      "100%|██████████| 11/11 [00:00<00:00, 458.51it/s]\n"
     ]
    },
    {
     "name": "stdout",
     "output_type": "stream",
     "text": [
      "Epoch: 3 Train Loss: 0.5785488636011493 Val Loss: 0.5678457368764331 Val Acc: 0.7042513863216266\n"
     ]
    },
    {
     "name": "stderr",
     "output_type": "stream",
     "text": [
      "100%|██████████| 60/60 [00:00<00:00, 311.34it/s]\n",
      "100%|██████████| 11/11 [00:00<00:00, 457.88it/s]\n"
     ]
    },
    {
     "name": "stdout",
     "output_type": "stream",
     "text": [
      "Epoch: 4 Train Loss: 0.5675225447077341 Val Loss: 0.5633014048974747 Val Acc: 0.7083179297597042\n"
     ]
    },
    {
     "name": "stderr",
     "output_type": "stream",
     "text": [
      "100%|██████████| 60/60 [00:00<00:00, 292.12it/s]\n",
      "100%|██████████| 11/11 [00:00<00:00, 467.89it/s]\n"
     ]
    },
    {
     "name": "stdout",
     "output_type": "stream",
     "text": [
      "Epoch: 5 Train Loss: 0.5617053592118693 Val Loss: 0.5575497790096868 Val Acc: 0.7146025878003697\n"
     ]
    },
    {
     "name": "stderr",
     "output_type": "stream",
     "text": [
      "100%|██████████| 60/60 [00:00<00:00, 308.44it/s]\n",
      "100%|██████████| 11/11 [00:00<00:00, 478.29it/s]\n"
     ]
    },
    {
     "name": "stdout",
     "output_type": "stream",
     "text": [
      "Epoch: 6 Train Loss: 0.5572778637614751 Val Loss: 0.5554889073653935 Val Acc: 0.7205175600739372\n"
     ]
    },
    {
     "name": "stderr",
     "output_type": "stream",
     "text": [
      "100%|██████████| 60/60 [00:00<00:00, 310.35it/s]\n",
      "100%|██████████| 11/11 [00:00<00:00, 478.02it/s]\n"
     ]
    },
    {
     "name": "stdout",
     "output_type": "stream",
     "text": [
      "Epoch: 7 Train Loss: 0.5548452000576592 Val Loss: 0.5635694508631878 Val Acc: 0.7097966728280961\n"
     ]
    },
    {
     "name": "stderr",
     "output_type": "stream",
     "text": [
      "100%|██████████| 60/60 [00:00<00:00, 305.87it/s]\n",
      "100%|██████████| 11/11 [00:00<00:00, 458.52it/s]\n"
     ]
    },
    {
     "name": "stdout",
     "output_type": "stream",
     "text": [
      "Epoch: 8 Train Loss: 0.554012190896522 Val Loss: 0.5513120639346223 Val Acc: 0.7234750462107209\n"
     ]
    },
    {
     "name": "stderr",
     "output_type": "stream",
     "text": [
      "100%|██████████| 60/60 [00:00<00:00, 307.34it/s]\n",
      "100%|██████████| 11/11 [00:00<00:00, 448.38it/s]\n"
     ]
    },
    {
     "name": "stdout",
     "output_type": "stream",
     "text": [
      "Epoch: 9 Train Loss: 0.5480013782008856 Val Loss: 0.5500406096250425 Val Acc: 0.7223659889094269\n"
     ]
    },
    {
     "name": "stderr",
     "output_type": "stream",
     "text": [
      "100%|██████████| 60/60 [00:00<00:00, 308.51it/s]\n",
      "100%|██████████| 11/11 [00:00<00:00, 455.82it/s]\n"
     ]
    },
    {
     "name": "stdout",
     "output_type": "stream",
     "text": [
      "Epoch: 10 Train Loss: 0.5489382019306236 Val Loss: 0.5563242059097713 Val Acc: 0.7131238447319779\n"
     ]
    },
    {
     "name": "stderr",
     "output_type": "stream",
     "text": [
      "100%|██████████| 60/60 [00:00<00:00, 278.33it/s]\n",
      "100%|██████████| 11/11 [00:00<00:00, 439.70it/s]\n"
     ]
    },
    {
     "name": "stdout",
     "output_type": "stream",
     "text": [
      "Epoch: 11 Train Loss: 0.5443615995059162 Val Loss: 0.5484275269420222 Val Acc: 0.721996303142329\n"
     ]
    },
    {
     "name": "stderr",
     "output_type": "stream",
     "text": [
      "100%|██████████| 60/60 [00:00<00:00, 284.31it/s]\n",
      "100%|██████████| 11/11 [00:00<00:00, 459.45it/s]\n"
     ]
    },
    {
     "name": "stdout",
     "output_type": "stream",
     "text": [
      "Epoch: 12 Train Loss: 0.5453707078476764 Val Loss: 0.5506391235728801 Val Acc: 0.7146025878003697\n"
     ]
    },
    {
     "name": "stderr",
     "output_type": "stream",
     "text": [
      "100%|██████████| 60/60 [00:00<00:00, 292.10it/s]\n",
      "100%|██████████| 11/11 [00:00<00:00, 466.01it/s]\n"
     ]
    },
    {
     "name": "stdout",
     "output_type": "stream",
     "text": [
      "Epoch: 13 Train Loss: 0.5434609696415879 Val Loss: 0.54656017106474 Val Acc: 0.7245841035120147\n"
     ]
    },
    {
     "name": "stderr",
     "output_type": "stream",
     "text": [
      "100%|██████████| 60/60 [00:00<00:00, 294.02it/s]\n",
      "100%|██████████| 11/11 [00:00<00:00, 440.00it/s]\n"
     ]
    },
    {
     "name": "stdout",
     "output_type": "stream",
     "text": [
      "Epoch: 14 Train Loss: 0.5431372470113679 Val Loss: 0.5468023102076349 Val Acc: 0.7238447319778188\n"
     ]
    },
    {
     "name": "stderr",
     "output_type": "stream",
     "text": [
      "100%|██████████| 60/60 [00:00<00:00, 291.15it/s]\n",
      "100%|██████████| 11/11 [00:00<00:00, 439.80it/s]"
     ]
    },
    {
     "name": "stdout",
     "output_type": "stream",
     "text": [
      "Epoch: 15 Train Loss: 0.5396521595045161 Val Loss: 0.5469822861350618 Val Acc: 0.7223659889094269\n"
     ]
    },
    {
     "name": "stderr",
     "output_type": "stream",
     "text": [
      "\n"
     ]
    }
   ],
   "source": [
    "epochs = 15\n",
    "for e in range(1, epochs + 1):\n",
    "    train_loss = train(model, train_loader, optimizer)\n",
    "    val_loss, val_acc = eval(model, val_loader)\n",
    "    print(f\"Epoch: {e} Train Loss: {train_loss} Val Loss: {val_loss} Val Acc: {val_acc}\")"
   ]
  },
  {
   "cell_type": "code",
   "execution_count": 15,
   "metadata": {},
   "outputs": [
    {
     "name": "stdout",
     "output_type": "stream",
     "text": [
      "Test Accuracy: 72.98%\n"
     ]
    }
   ],
   "source": [
    "@torch.no_grad()\n",
    "def test_accuracy(model, loader):\n",
    "    model.eval()\n",
    "    total_correct = 0\n",
    "    total_num = 0\n",
    "    all_preds = []\n",
    "    all_targets = []\n",
    "    all_probs = []  # To store probability estimates\n",
    "\n",
    "    for data, target in loader:\n",
    "        out = model(data)\n",
    "        pred = torch.sigmoid(out) >= 0.5\n",
    "        correct = (pred.float() == target.unsqueeze(1).float()).sum().item()\n",
    "\n",
    "        total_correct += correct\n",
    "        total_num += len(target)\n",
    "\n",
    "        all_preds.extend(pred.view(-1).cpu().numpy())\n",
    "        all_targets.extend(target.cpu().numpy())\n",
    "        all_probs.extend(torch.sigmoid(out).cpu().numpy())  # Store probability estimates\n",
    "\n",
    "    acc = total_correct / total_num\n",
    "    return acc, all_preds, all_targets, all_probs  # Return probability estimates\n",
    "\n",
    "test_acc, all_preds, all_targets, all_probs = test_accuracy(model, test_loader)\n",
    "print(f\"Test Accuracy: {test_acc * 100:.2f}%\")"
   ]
  },
  {
   "cell_type": "code",
   "execution_count": 16,
   "metadata": {},
   "outputs": [],
   "source": [
    "@torch.no_grad()\n",
    "def test_roc_auc(model, loader):\n",
    "    model.eval()\n",
    "    all_preds = []\n",
    "    all_targets = []\n",
    "\n",
    "    for data, target in loader:\n",
    "        out = model(data)\n",
    "        pred = torch.sigmoid(out)\n",
    "        \n",
    "        all_preds.extend(pred.view(-1).cpu().numpy())\n",
    "        all_targets.extend(target.cpu().numpy())\n",
    "\n",
    "    roc_auc = roc_auc_score(all_targets, all_preds)\n",
    "    return roc_auc"
   ]
  },
  {
   "cell_type": "code",
   "execution_count": 17,
   "metadata": {},
   "outputs": [
    {
     "name": "stdout",
     "output_type": "stream",
     "text": [
      "ROC AUC Score on Test Set: 0.7980\n",
      "Brier Score on Test Set: 0.1802\n"
     ]
    }
   ],
   "source": [
    "from sklearn.metrics import brier_score_loss\n",
    "\n",
    "roc_auc = test_roc_auc(model, test_loader)\n",
    "print(f\"ROC AUC Score on Test Set: {roc_auc:.4f}\")\n",
    "\n",
    "# Calculate the Brier Score using probability estimates\n",
    "test_acc, _, _, all_probs = test_accuracy(model, test_loader)\n",
    "brier_score = brier_score_loss(all_targets, all_probs)\n",
    "print(f\"Brier Score on Test Set: {brier_score:.4f}\")"
   ]
  },
  {
   "cell_type": "code",
   "execution_count": 18,
   "metadata": {},
   "outputs": [
    {
     "name": "stderr",
     "output_type": "stream",
     "text": [
      "100%|██████████| 71/71 [00:00<00:00, 293.13it/s]\n",
      "100%|██████████| 11/11 [00:00<00:00, 467.80it/s]\n"
     ]
    },
    {
     "name": "stdout",
     "output_type": "stream",
     "text": [
      "Epoch: 1 Train Loss: 0.5417081129003423 Val Loss: 0.5501741502069061 Val Acc: 0.7245841035120147\n"
     ]
    },
    {
     "name": "stderr",
     "output_type": "stream",
     "text": [
      "100%|██████████| 71/71 [00:00<00:00, 312.27it/s]\n",
      "100%|██████████| 11/11 [00:00<00:00, 458.16it/s]\n"
     ]
    },
    {
     "name": "stdout",
     "output_type": "stream",
     "text": [
      "Epoch: 2 Train Loss: 0.5382952702423673 Val Loss: 0.5392368747434422 Val Acc: 0.7279112754158965\n"
     ]
    },
    {
     "name": "stderr",
     "output_type": "stream",
     "text": [
      "100%|██████████| 71/71 [00:00<00:00, 306.42it/s]\n",
      "100%|██████████| 11/11 [00:00<00:00, 458.37it/s]\n"
     ]
    },
    {
     "name": "stdout",
     "output_type": "stream",
     "text": [
      "Epoch: 3 Train Loss: 0.5373771964035728 Val Loss: 0.5400824632970771 Val Acc: 0.7293900184842883\n"
     ]
    },
    {
     "name": "stderr",
     "output_type": "stream",
     "text": [
      "100%|██████████| 71/71 [00:00<00:00, 306.38it/s]\n",
      "100%|██████████| 11/11 [00:00<00:00, 423.64it/s]\n"
     ]
    },
    {
     "name": "stdout",
     "output_type": "stream",
     "text": [
      "Epoch: 4 Train Loss: 0.5366878225715033 Val Loss: 0.537011939606693 Val Acc: 0.734195933456562\n"
     ]
    },
    {
     "name": "stderr",
     "output_type": "stream",
     "text": [
      "100%|██████████| 71/71 [00:00<00:00, 292.65it/s]\n",
      "100%|██████████| 11/11 [00:00<00:00, 458.35it/s]\n"
     ]
    },
    {
     "name": "stdout",
     "output_type": "stream",
     "text": [
      "Epoch: 5 Train Loss: 0.5335337206215454 Val Loss: 0.5362655999039105 Val Acc: 0.7353049907578558\n"
     ]
    },
    {
     "name": "stderr",
     "output_type": "stream",
     "text": [
      "100%|██████████| 71/71 [00:00<00:00, 299.54it/s]\n",
      "100%|██████████| 11/11 [00:00<00:00, 468.17it/s]\n"
     ]
    },
    {
     "name": "stdout",
     "output_type": "stream",
     "text": [
      "Epoch: 6 Train Loss: 0.5344425947604805 Val Loss: 0.5366468432650328 Val Acc: 0.7364140480591497\n"
     ]
    },
    {
     "name": "stderr",
     "output_type": "stream",
     "text": [
      "100%|██████████| 71/71 [00:00<00:00, 299.54it/s]\n",
      "100%|██████████| 11/11 [00:00<00:00, 458.59it/s]\n"
     ]
    },
    {
     "name": "stdout",
     "output_type": "stream",
     "text": [
      "Epoch: 7 Train Loss: 0.5325965487642248 Val Loss: 0.5317153333736215 Val Acc: 0.7323475046210721\n"
     ]
    },
    {
     "name": "stderr",
     "output_type": "stream",
     "text": [
      "100%|██████████| 71/71 [00:00<00:00, 279.74it/s]\n",
      "100%|██████████| 11/11 [00:00<00:00, 458.34it/s]\n"
     ]
    },
    {
     "name": "stdout",
     "output_type": "stream",
     "text": [
      "Epoch: 8 Train Loss: 0.5311606537351488 Val Loss: 0.5338781365625519 Val Acc: 0.7375231053604436\n"
     ]
    },
    {
     "name": "stderr",
     "output_type": "stream",
     "text": [
      "100%|██████████| 71/71 [00:00<00:00, 289.97it/s]\n",
      "100%|██████████| 11/11 [00:00<00:00, 458.49it/s]\n"
     ]
    },
    {
     "name": "stdout",
     "output_type": "stream",
     "text": [
      "Epoch: 9 Train Loss: 0.5290004491991179 Val Loss: 0.5310395904036855 Val Acc: 0.7371534195933457\n"
     ]
    },
    {
     "name": "stderr",
     "output_type": "stream",
     "text": [
      "100%|██████████| 71/71 [00:00<00:00, 283.12it/s]\n",
      "100%|██████████| 11/11 [00:00<00:00, 467.40it/s]\n"
     ]
    },
    {
     "name": "stdout",
     "output_type": "stream",
     "text": [
      "Epoch: 10 Train Loss: 0.5283224468276695 Val Loss: 0.5360511976557606 Val Acc: 0.7323475046210721\n"
     ]
    },
    {
     "name": "stderr",
     "output_type": "stream",
     "text": [
      "100%|██████████| 71/71 [00:00<00:00, 283.84it/s]\n",
      "100%|██████████| 11/11 [00:00<00:00, 462.39it/s]\n"
     ]
    },
    {
     "name": "stdout",
     "output_type": "stream",
     "text": [
      "Epoch: 11 Train Loss: 0.5284542575733133 Val Loss: 0.5300165860137305 Val Acc: 0.7390018484288355\n"
     ]
    },
    {
     "name": "stderr",
     "output_type": "stream",
     "text": [
      "100%|██████████| 71/71 [00:00<00:00, 284.56it/s]\n",
      "100%|██████████| 11/11 [00:00<00:00, 478.29it/s]\n"
     ]
    },
    {
     "name": "stdout",
     "output_type": "stream",
     "text": [
      "Epoch: 12 Train Loss: 0.5265430925768972 Val Loss: 0.528125796741126 Val Acc: 0.7404805914972273\n"
     ]
    },
    {
     "name": "stderr",
     "output_type": "stream",
     "text": [
      "100%|██████████| 71/71 [00:00<00:00, 295.19it/s]\n",
      "100%|██████████| 11/11 [00:00<00:00, 407.95it/s]\n"
     ]
    },
    {
     "name": "stdout",
     "output_type": "stream",
     "text": [
      "Epoch: 13 Train Loss: 0.5266877974589965 Val Loss: 0.526294255124443 Val Acc: 0.7397412199630314\n"
     ]
    },
    {
     "name": "stderr",
     "output_type": "stream",
     "text": [
      "100%|██████████| 71/71 [00:00<00:00, 221.49it/s]\n",
      "100%|██████████| 11/11 [00:00<00:00, 459.81it/s]\n"
     ]
    },
    {
     "name": "stdout",
     "output_type": "stream",
     "text": [
      "Epoch: 14 Train Loss: 0.5257044635565974 Val Loss: 0.5288630439922241 Val Acc: 0.7345656192236599\n"
     ]
    },
    {
     "name": "stderr",
     "output_type": "stream",
     "text": [
      "100%|██████████| 71/71 [00:00<00:00, 285.85it/s]\n",
      "100%|██████████| 11/11 [00:00<00:00, 440.18it/s]\n"
     ]
    },
    {
     "name": "stdout",
     "output_type": "stream",
     "text": [
      "Epoch: 15 Train Loss: 0.524828640775086 Val Loss: 0.5228990286643757 Val Acc: 0.743438077634011\n",
      "Test Accuracy: 74.16%\n"
     ]
    }
   ],
   "source": [
    "epochs = 15\n",
    "for e in range(1, epochs + 1):\n",
    "    train_loss = train(model, total_train_loader, optimizer)  # Use total_train_loader\n",
    "    val_loss, val_acc = eval(model, val_loader)\n",
    "    print(f\"Epoch: {e} Train Loss: {train_loss} Val Loss: {val_loss} Val Acc: {val_acc}\")\n",
    "\n",
    "# After training, evaluate on the test set\n",
    "test_acc, all_preds, all_targets, all_probs = test_accuracy(model, test_loader)\n",
    "print(f\"Test Accuracy: {test_acc * 100:.2f}%\")\n"
   ]
  },
  {
   "cell_type": "code",
   "execution_count": 19,
   "metadata": {},
   "outputs": [
    {
     "data": {
      "image/png": "[encoded data removed]",
      "text/plain": [
       "<Figure size 600x600 with 2 Axes>"
      ]
     },
     "metadata": {},
     "output_type": "display_data"
    }
   ],
   "source": [
    "# Calculate the confusion matrix\n",
    "cm = confusion_matrix(all_targets, all_preds)\n",
    "\n",
    "# Plotting the confusion matrix\n",
    "plt.figure(figsize=(6, 6))\n",
    "sns.heatmap(cm, annot=True, fmt=\"d\", cmap=\"Blues\")\n",
    "plt.title(\"Confusion Matrix\")\n",
    "plt.xlabel(\"Predicted Label\")\n",
    "plt.ylabel(\"True Label\")\n",
    "plt.show()\n"
   ]
  },
  {
   "cell_type": "code",
   "execution_count": 20,
   "metadata": {},
   "outputs": [
    {
     "name": "stdout",
     "output_type": "stream",
     "text": [
      "ROC AUC Score on Test Set: 0.8126\n"
     ]
    }
   ],
   "source": [
    "@torch.no_grad()\n",
    "def test_roc_auc(model, loader):\n",
    "    model.eval()\n",
    "    all_preds = []\n",
    "    all_targets = []\n",
    "\n",
    "    for data, target in loader:\n",
    "        out = model(data)\n",
    "        pred = torch.sigmoid(out)\n",
    "        \n",
    "        all_preds.extend(pred.view(-1).cpu().numpy())\n",
    "        all_targets.extend(target.cpu().numpy())\n",
    "\n",
    "    roc_auc = roc_auc_score(all_targets, all_preds)\n",
    "    return roc_auc\n",
    "\n",
    "roc_auc = test_roc_auc(model, test_loader)\n",
    "print(f\"ROC AUC Score on Test Set: {roc_auc:.4f}\")"
   ]
  }
 ],
 "metadata": {
  "kernelspec": {
   "display_name": "ece381",
   "language": "python",
   "name": "python3"
  },
  "language_info": {
   "codemirror_mode": {
    "name": "ipython",
    "version": 3
   },
   "file_extension": ".py",
   "mimetype": "text/x-python",
   "name": "python",
   "nbconvert_exporter": "python",
   "pygments_lexer": "ipython3",
   "version": "3.10.12"
  }
 },
 "nbformat": 4,
 "nbformat_minor": 2
}
