{
 "cells": [
  {
   "cell_type": "code",
   "execution_count": 1,
   "metadata": {},
   "outputs": [],
   "source": [
    "import pandas as pd\n",
    "import numpy as np\n",
    "\n",
    "from sklearn.preprocessing import StandardScaler\n",
    "from sklearn.model_selection import KFold\n",
    "from sklearn.model_selection import train_test_split\n",
    "from sklearn.metrics import accuracy_score, confusion_matrix, brier_score_loss\n",
    "from sklearn.metrics import roc_auc_score, roc_curve, auc\n",
    "from sklearn.calibration import calibration_curve\n",
    "\n",
    "import torch\n",
    "from torch.utils.data import Dataset, DataLoader, random_split\n",
    "import torch.nn as nn\n",
    "import torch.nn.functional as F\n",
    "\n",
    "from tqdm import tqdm\n",
    "import matplotlib.pyplot as plt\n",
    "import seaborn as sns\n",
    "\n",
    "#import data\n",
    "df = pd.read_csv('data/Recidivism_Data_cleaned.csv')\n",
    "df_original = df.copy()\n",
    "\n",
    "# We only want to predict recidivism within 3 years\n",
    "#We are also looking at just Males\n",
    "df.drop(['Recidivism_Arrest_Year1', 'Recidivism_Arrest_Year2', 'Recidivism_Arrest_Year3', 'Gender'], axis=1, inplace=True)"
   ]
  },
  {
   "cell_type": "markdown",
   "metadata": {},
   "source": [
    "### Data Preprocessing"
   ]
  },
  {
   "cell_type": "code",
   "execution_count": 2,
   "metadata": {},
   "outputs": [],
   "source": [
    "#Chance all Booleans to Integers\n",
    "for column in df.columns:\n",
    "    if df[column].dtype == 'bool':\n",
    "        df[column] = df[column].astype(int)\n",
    "\n",
    "# Dummy Variable for Race \n",
    "df['Race'] = df['Race'].map({'BLACK': 1, 'WHITE': 0})\n",
    "\n",
    "# Change age to integer as opposed to float\n",
    "df['Age_at_Release'] = df['Age_at_Release'].astype(int)\n",
    "\n",
    "# Interger Encoded to for embeddings in NN\n",
    "df['Prison_Offense'] = df['Prison_Offense'].map({category: idx for idx, category in enumerate(df['Prison_Offense'].unique())})\n",
    "df['Education_Level'] = df['Education_Level'].map({'Less than HS diploma': 0, 'High School Diploma': 1, 'At least some college': 2})\n",
    "df['Supervision_Level_First'] = df['Supervision_Level_First'].map({'Standard': 0, 'High': 1, 'Specialized': 2})\n",
    "\n",
    "# Make Recidivism_Within_3years the last column\n",
    "cols = [col for col in df.columns if col != 'Recidivism_Within_3years']\n",
    "cols.append('Recidivism_Within_3years')\n",
    "df = df[cols]"
   ]
  },
  {
   "cell_type": "code",
   "execution_count": 3,
   "metadata": {},
   "outputs": [],
   "source": [
    "# Variables to normalize\n",
    "columns_to_normalize = ['Age_at_Release', 'Prison_Years', 'Supervision_Risk_Score_First', 'Percent_Days_Employed', 'Jobs_Per_Year']  # add other columns here\n",
    "\n",
    "# Apply Standardization\n",
    "scaler = StandardScaler()\n",
    "df[columns_to_normalize] = scaler.fit_transform(df[columns_to_normalize])\n",
    "\n",
    "#Split Train and Test Data\n",
    "train_df = df[df['Training_Sample'] == 1]\n",
    "test_df = df[df['Training_Sample'] == 0]\n",
    "train_df = train_df.drop(columns=['Training_Sample'])\n",
    "test_df = test_df.drop(columns=['Training_Sample'])\n"
   ]
  },
  {
   "cell_type": "markdown",
   "metadata": {},
   "source": [
    "### MLP"
   ]
  },
  {
   "cell_type": "code",
   "execution_count": 4,
   "metadata": {},
   "outputs": [
    {
     "name": "stdout",
     "output_type": "stream",
     "text": [
      "Using cuda device\n"
     ]
    }
   ],
   "source": [
    "device = (\n",
    "    \"cuda\"\n",
    "    if torch.cuda.is_available()\n",
    "    else \"mps\"\n",
    "    if torch.backends.mps.is_available()\n",
    "    else \"cpu\"\n",
    ")\n",
    "print(f\"Using {device} device\")"
   ]
  },
  {
   "cell_type": "code",
   "execution_count": 5,
   "metadata": {},
   "outputs": [],
   "source": [
    "class DataFrameDataset(Dataset):\n",
    "    def __init__(self, dataframe):\n",
    "        \"\"\"\n",
    "        Args:\n",
    "            dataframe (pd.DataFrame): source data\n",
    "        \"\"\"\n",
    "        # Assuming the last column is the label\n",
    "        self.features = dataframe.iloc[:, :-1].values\n",
    "        self.labels = dataframe.iloc[:, -1].values\n",
    "\n",
    "    def __len__(self):\n",
    "        return len(self.features)\n",
    "\n",
    "    def __getitem__(self, idx):\n",
    "        if torch.is_tensor(idx):\n",
    "            idx = idx.tolist()\n",
    "\n",
    "        # Convert features and labels to tensors\n",
    "        features = torch.tensor(self.features[idx], dtype=torch.float32)\n",
    "        label = torch.tensor(self.labels[idx], dtype=torch.long)\n",
    "\n",
    "        return features, label\n"
   ]
  },
  {
   "cell_type": "code",
   "execution_count": 6,
   "metadata": {},
   "outputs": [],
   "source": [
    "#Convert pd dataframe to torch dataset\n",
    "train_dataset = DataFrameDataset(train_df)\n",
    "test_dataset = DataFrameDataset(test_df)\n",
    "\n",
    "# use 15% of training data for validation\n",
    "train_set_size = int(len(train_dataset) * 0.85)\n",
    "valid_set_size = len(train_dataset) - train_set_size\n",
    "train_set, valid_set = torch.utils.data.random_split(train_dataset, [train_set_size, valid_set_size], generator=torch.Generator().manual_seed(42))\n",
    "\n",
    "# DataLoaders\n",
    "train_loader = DataLoader(train_set, batch_size=256, shuffle=True)\n",
    "total_train_loader = DataLoader(train_dataset, batch_size=256, shuffle=True)\n",
    "val_loader = DataLoader(valid_set, batch_size=256, shuffle=False)\n",
    "test_loader = DataLoader(test_dataset, batch_size=256, shuffle=False)"
   ]
  },
  {
   "cell_type": "code",
   "execution_count": 7,
   "metadata": {},
   "outputs": [],
   "source": [
    "class MLP(nn.Module):\n",
    "    def __init__(self):\n",
    "        super(MLP, self).__init__()\n",
    "        # Create fully connected layers (nn.Linear)\n",
    "        ### START CODE ###\n",
    "        self.fc1 = nn.Linear(47, 50)\n",
    "        self.fc2 = nn.Linear(50, 50)\n",
    "        self.fc3 = nn.Linear(50, 1)\n",
    "        ### END CODE ###\n",
    "\n",
    "    def forward(self, x):\n",
    "        ### START CODE ###\n",
    "        x = F.relu(self.fc1(x))\n",
    "        x = F.relu(self.fc2(x))\n",
    "        x = self.fc3(x)\n",
    "        ### END CODE ###\n",
    "        return x\n"
   ]
  },
  {
   "cell_type": "code",
   "execution_count": 8,
   "metadata": {},
   "outputs": [],
   "source": [
    "model = MLP()\n",
    "# Create the optimizer\n",
    "### START CODE ###\n",
    "optimizer = torch.optim.Adam(model.parameters(), lr=1e-3)\n",
    "### END CODE ###"
   ]
  },
  {
   "cell_type": "code",
   "execution_count": 9,
   "metadata": {},
   "outputs": [],
   "source": [
    "# Create the loss function instance\n",
    "criterion = torch.nn.BCEWithLogitsLoss()\n",
    "\n",
    "def train(model, loader, optimizer):\n",
    "    model.train()\n",
    "    total_loss = 0\n",
    "    total_num = 0\n",
    "    for data, target in tqdm(loader):\n",
    "        out = model(data)\n",
    "        # Calculate loss based on model output and target\n",
    "        ### START CODE ###\n",
    "        target = target.unsqueeze(1) \n",
    "        loss = criterion(out, target.float())\n",
    "        ### END CODE ###\n",
    "\n",
    "        # Use the optimizer to perform backpropagation\n",
    "        ### START CODE ###\n",
    "        optimizer.zero_grad()\n",
    "        loss.backward()\n",
    "        optimizer.step()\n",
    "        ### END CODE ###\n",
    "\n",
    "        batch_size = len(target)\n",
    "        total_loss += loss.item() * batch_size\n",
    "        total_num += batch_size\n",
    "    avg_loss = total_loss / total_num\n",
    "    return avg_loss\n",
    "\n",
    "@torch.no_grad()\n",
    "def eval(model, loader):\n",
    "    model.eval()\n",
    "    total_loss = 0\n",
    "    total_correct = 0\n",
    "    total_num = 0\n",
    "    for data, target in tqdm(loader):\n",
    "        out = model(data)\n",
    "        # Calculate loss based on model output and target\n",
    "        ### START CODE ###\n",
    "        target = target.unsqueeze(1) \n",
    "        loss = criterion(out, target.float())\n",
    "        ### END CODE ###\n",
    "\n",
    "        # Get model's prediction\n",
    "        ### START CODE ###\n",
    "        pred = torch.sigmoid(out) >= 0.5\n",
    "        ### END CODE ###\n",
    "\n",
    "        # Count number of correct predictions\n",
    "        ### START CODE ###\n",
    "        correct = (pred.float() == target.float()).sum().item()\n",
    "        ### END CODE ###\n",
    "\n",
    "        total_correct += correct\n",
    "        batch_size = len(target)\n",
    "        total_loss += loss.item() * batch_size\n",
    "        total_num += batch_size\n",
    "    avg_loss = total_loss / total_num\n",
    "    acc = total_correct / total_num\n",
    "    return avg_loss, acc\n"
   ]
  },
  {
   "cell_type": "code",
   "execution_count": 10,
   "metadata": {},
   "outputs": [
    {
     "name": "stderr",
     "output_type": "stream",
     "text": [
      "100%|██████████| 62/62 [00:00<00:00, 279.53it/s]\n",
      "100%|██████████| 27/27 [00:00<00:00, 471.59it/s]\n"
     ]
    },
    {
     "name": "stdout",
     "output_type": "stream",
     "text": [
      "Epoch: 1 Train Loss: 0.6339505936018122 Val Loss: 0.6036452508553378 Val Acc: 0.6793058188712264\n"
     ]
    },
    {
     "name": "stderr",
     "output_type": "stream",
     "text": [
      "100%|██████████| 62/62 [00:00<00:00, 289.55it/s]\n",
      "100%|██████████| 27/27 [00:00<00:00, 449.96it/s]\n"
     ]
    },
    {
     "name": "stdout",
     "output_type": "stream",
     "text": [
      "Epoch: 2 Train Loss: 0.5768020249854665 Val Loss: 0.5810173442816794 Val Acc: 0.699722910893977\n"
     ]
    },
    {
     "name": "stderr",
     "output_type": "stream",
     "text": [
      "100%|██████████| 62/62 [00:00<00:00, 306.11it/s]\n",
      "100%|██████████| 27/27 [00:00<00:00, 488.16it/s]\n"
     ]
    },
    {
     "name": "stdout",
     "output_type": "stream",
     "text": [
      "Epoch: 3 Train Loss: 0.561574826712672 Val Loss: 0.5752966840325943 Val Acc: 0.7007437654951145\n"
     ]
    },
    {
     "name": "stderr",
     "output_type": "stream",
     "text": [
      "100%|██████████| 62/62 [00:00<00:00, 307.15it/s]\n",
      "100%|██████████| 27/27 [00:00<00:00, 378.99it/s]\n"
     ]
    },
    {
     "name": "stdout",
     "output_type": "stream",
     "text": [
      "Epoch: 4 Train Loss: 0.5552608574879071 Val Loss: 0.5685862560339671 Val Acc: 0.7099314569053522\n"
     ]
    },
    {
     "name": "stderr",
     "output_type": "stream",
     "text": [
      "100%|██████████| 62/62 [00:00<00:00, 305.79it/s]\n",
      "100%|██████████| 27/27 [00:00<00:00, 485.15it/s]\n"
     ]
    },
    {
     "name": "stdout",
     "output_type": "stream",
     "text": [
      "Epoch: 5 Train Loss: 0.5503719575445383 Val Loss: 0.5662167571768636 Val Acc: 0.711389820621263\n"
     ]
    },
    {
     "name": "stderr",
     "output_type": "stream",
     "text": [
      "100%|██████████| 62/62 [00:00<00:00, 278.24it/s]\n",
      "100%|██████████| 27/27 [00:00<00:00, 435.81it/s]\n"
     ]
    },
    {
     "name": "stdout",
     "output_type": "stream",
     "text": [
      "Epoch: 6 Train Loss: 0.5471893434174395 Val Loss: 0.5658659855026328 Val Acc: 0.7112439842496718\n"
     ]
    },
    {
     "name": "stderr",
     "output_type": "stream",
     "text": [
      "100%|██████████| 62/62 [00:00<00:00, 271.81it/s]\n",
      "100%|██████████| 27/27 [00:00<00:00, 242.07it/s]\n"
     ]
    },
    {
     "name": "stdout",
     "output_type": "stream",
     "text": [
      "Epoch: 7 Train Loss: 0.5446611043511332 Val Loss: 0.5627079178644753 Val Acc: 0.713577366195129\n"
     ]
    },
    {
     "name": "stderr",
     "output_type": "stream",
     "text": [
      "100%|██████████| 62/62 [00:00<00:00, 293.81it/s]\n",
      "100%|██████████| 27/27 [00:00<00:00, 465.49it/s]\n"
     ]
    },
    {
     "name": "stdout",
     "output_type": "stream",
     "text": [
      "Epoch: 8 Train Loss: 0.542663568586637 Val Loss: 0.5597587668880075 Val Acc: 0.7141607116814933\n"
     ]
    },
    {
     "name": "stderr",
     "output_type": "stream",
     "text": [
      "100%|██████████| 62/62 [00:00<00:00, 294.00it/s]\n",
      "100%|██████████| 27/27 [00:00<00:00, 457.91it/s]\n"
     ]
    },
    {
     "name": "stdout",
     "output_type": "stream",
     "text": [
      "Epoch: 9 Train Loss: 0.5387273004419791 Val Loss: 0.5638481782410015 Val Acc: 0.7086189295610326\n"
     ]
    },
    {
     "name": "stderr",
     "output_type": "stream",
     "text": [
      "100%|██████████| 62/62 [00:00<00:00, 293.29it/s]\n",
      "100%|██████████| 27/27 [00:00<00:00, 477.83it/s]\n"
     ]
    },
    {
     "name": "stdout",
     "output_type": "stream",
     "text": [
      "Epoch: 10 Train Loss: 0.5395504134624629 Val Loss: 0.5584488856526458 Val Acc: 0.7138690389383112\n"
     ]
    },
    {
     "name": "stderr",
     "output_type": "stream",
     "text": [
      "100%|██████████| 62/62 [00:00<00:00, 295.29it/s]\n",
      "100%|██████████| 27/27 [00:00<00:00, 469.33it/s]\n"
     ]
    },
    {
     "name": "stdout",
     "output_type": "stream",
     "text": [
      "Epoch: 11 Train Loss: 0.5354658723156469 Val Loss: 0.5597493874447781 Val Acc: 0.7129940207087647\n"
     ]
    },
    {
     "name": "stderr",
     "output_type": "stream",
     "text": [
      "100%|██████████| 62/62 [00:00<00:00, 295.64it/s]\n",
      "100%|██████████| 27/27 [00:00<00:00, 468.03it/s]\n"
     ]
    },
    {
     "name": "stdout",
     "output_type": "stream",
     "text": [
      "Epoch: 12 Train Loss: 0.5341581956582205 Val Loss: 0.5614981767612138 Val Acc: 0.7092022750473969\n"
     ]
    },
    {
     "name": "stderr",
     "output_type": "stream",
     "text": [
      "100%|██████████| 62/62 [00:00<00:00, 288.31it/s]\n",
      "100%|██████████| 27/27 [00:00<00:00, 479.40it/s]\n"
     ]
    },
    {
     "name": "stdout",
     "output_type": "stream",
     "text": [
      "Epoch: 13 Train Loss: 0.5341417791381837 Val Loss: 0.5588077278149028 Val Acc: 0.7147440571678577\n"
     ]
    },
    {
     "name": "stderr",
     "output_type": "stream",
     "text": [
      "100%|██████████| 62/62 [00:00<00:00, 306.69it/s]\n",
      "100%|██████████| 27/27 [00:00<00:00, 480.32it/s]\n"
     ]
    },
    {
     "name": "stdout",
     "output_type": "stream",
     "text": [
      "Epoch: 14 Train Loss: 0.5324813422016141 Val Loss: 0.562084672401298 Val Acc: 0.7163482572553594\n"
     ]
    },
    {
     "name": "stderr",
     "output_type": "stream",
     "text": [
      "100%|██████████| 62/62 [00:00<00:00, 322.34it/s]\n",
      "100%|██████████| 27/27 [00:00<00:00, 496.28it/s]"
     ]
    },
    {
     "name": "stdout",
     "output_type": "stream",
     "text": [
      "Epoch: 15 Train Loss: 0.5271779481241701 Val Loss: 0.5584853391649425 Val Acc: 0.7137232025667202\n"
     ]
    },
    {
     "name": "stderr",
     "output_type": "stream",
     "text": [
      "\n"
     ]
    }
   ],
   "source": [
    "epochs = 15\n",
    "for e in range(1, epochs + 1):\n",
    "    train_loss = train(model, total_train_loader, optimizer)\n",
    "    val_loss, val_acc = eval(model, test_loader)\n",
    "    print(f\"Epoch: {e} Train Loss: {train_loss} Val Loss: {val_loss} Val Acc: {val_acc}\")"
   ]
  },
  {
   "cell_type": "code",
   "execution_count": 11,
   "metadata": {},
   "outputs": [
    {
     "name": "stdout",
     "output_type": "stream",
     "text": [
      "Brier Score: 0.1891\n"
     ]
    }
   ],
   "source": [
    "@torch.no_grad()\n",
    "def get_predictions(model, loader):\n",
    "    model.eval()\n",
    "    all_probs = []\n",
    "    all_targets = []\n",
    "    all_preds = []\n",
    "\n",
    "    for data, target in loader:\n",
    "        out = model(data)\n",
    "        prob = torch.sigmoid(out)\n",
    "        all_probs.extend(prob.view(-1).cpu().numpy())\n",
    "        all_preds.extend((prob >= 0.5).long().view(-1).cpu().numpy())\n",
    "        all_targets.extend(target.cpu().numpy())\n",
    "\n",
    "    return all_probs, all_targets, all_preds\n",
    "\n",
    "# Calculate probabilities and actual labels on the test set\n",
    "all_probs, all_targets, all_preds = get_predictions(model, test_loader)\n",
    "\n",
    "# Now, you can calculate the Brier score\n",
    "brier_score = brier_score_loss(all_targets, all_probs)\n",
    "print(f\"Brier Score: {brier_score:.4f}\")\n"
   ]
  },
  {
   "cell_type": "code",
   "execution_count": 12,
   "metadata": {},
   "outputs": [
    {
     "name": "stdout",
     "output_type": "stream",
     "text": [
      "ROC AUC: 0.7697\n"
     ]
    },
    {
     "data": {
      "image/png": "[encoded data removed]",
      "text/plain": [
       "<Figure size 640x480 with 1 Axes>"
      ]
     },
     "metadata": {},
     "output_type": "display_data"
    }
   ],
   "source": [
    "# Calculate ROC AUC\n",
    "roc_auc = roc_auc_score(all_targets, all_probs)\n",
    "print(f\"ROC AUC: {roc_auc:.4f}\")\n",
    "\n",
    "# Calculate ROC curve\n",
    "fpr, tpr, thresholds = roc_curve(all_targets, all_probs)\n",
    "\n",
    "# Plot ROC curve\n",
    "plt.figure()\n",
    "plt.plot(fpr, tpr, color='darkorange', lw=2, label='ROC curve (area = %0.2f)' % roc_auc)\n",
    "plt.plot([0, 1], [0, 1], color='navy', lw=2, linestyle='--')\n",
    "plt.xlim([0.0, 1.0])\n",
    "plt.ylim([0.0, 1.05])\n",
    "plt.xlabel('False Positive Rate')\n",
    "plt.ylabel('True Positive Rate')\n",
    "plt.title('Receiver Operating Characteristic')\n",
    "plt.legend(loc=\"lower right\")\n",
    "plt.show()\n"
   ]
  },
  {
   "cell_type": "code",
   "execution_count": 13,
   "metadata": {},
   "outputs": [
    {
     "data": {
      "image/png": "[encoded data removed]",
      "text/plain": [
       "<Figure size 640x480 with 1 Axes>"
      ]
     },
     "metadata": {},
     "output_type": "display_data"
    }
   ],
   "source": [
    "# Calculate calibration curve\n",
    "fraction_of_positives, mean_predicted_value = calibration_curve(all_targets, all_probs, n_bins=10)\n",
    "\n",
    "# Plot calibration plot\n",
    "plt.figure()\n",
    "plt.plot(mean_predicted_value, fraction_of_positives, 's-')\n",
    "plt.plot([0, 1], [0, 1], '--', color='gray')\n",
    "plt.xlabel('Mean predicted probability')\n",
    "plt.ylabel('Fraction of positives')\n",
    "plt.title('Calibration plot')\n",
    "plt.show()\n"
   ]
  },
  {
   "cell_type": "code",
   "execution_count": 14,
   "metadata": {},
   "outputs": [
    {
     "data": {
      "image/png": "[encoded data removed]",
      "text/plain": [
       "<Figure size 600x600 with 2 Axes>"
      ]
     },
     "metadata": {},
     "output_type": "display_data"
    }
   ],
   "source": [
    "# Calculate the confusion matrix\n",
    "cm = confusion_matrix(all_targets, all_preds)\n",
    "\n",
    "# Plotting the confusion matrix\n",
    "plt.figure(figsize=(6, 6))\n",
    "sns.heatmap(cm, annot=True, fmt=\"d\", cmap=\"Blues\")\n",
    "plt.title(\"Confusion Matrix\")\n",
    "plt.xlabel(\"Predicted Label\")\n",
    "plt.ylabel(\"True Label\")\n",
    "plt.show()"
   ]
  }
 ],
 "metadata": {
  "kernelspec": {
   "display_name": "ece381",
   "language": "python",
   "name": "python3"
  },
  "language_info": {
   "codemirror_mode": {
    "name": "ipython",
    "version": 3
   },
   "file_extension": ".py",
   "mimetype": "text/x-python",
   "name": "python",
   "nbconvert_exporter": "python",
   "pygments_lexer": "ipython3",
   "version": "3.10.12"
  }
 },
 "nbformat": 4,
 "nbformat_minor": 2
}
