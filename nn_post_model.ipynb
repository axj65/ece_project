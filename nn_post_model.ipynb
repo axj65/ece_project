{
 "cells": [
  {
   "cell_type": "code",
   "execution_count": 9,
   "metadata": {},
   "outputs": [],
   "source": [
    "import pandas as pd\n",
    "import numpy as np\n",
    "\n",
    "from sklearn.preprocessing import StandardScaler\n",
    "from sklearn.model_selection import KFold\n",
    "from sklearn.model_selection import train_test_split\n",
    "from sklearn.metrics import accuracy_score, confusion_matrix\n",
    "from sklearn.metrics import roc_auc_score, roc_curve, auc\n",
    "\n",
    "import torch\n",
    "from torch.utils.data import Dataset, DataLoader, random_split\n",
    "import torch.nn as nn\n",
    "import torch.nn.functional as F\n",
    "\n",
    "from tqdm import tqdm\n",
    "import matplotlib.pyplot as plt\n",
    "import seaborn as sns\n",
    "\n"
   ]
  },
  {
   "cell_type": "code",
   "execution_count": 10,
   "metadata": {},
   "outputs": [],
   "source": [
    "#import data\n",
    "df = pd.read_csv('data/Recidivism_Data_cleaned.csv')\n",
    "df_original = df.copy()"
   ]
  },
  {
   "cell_type": "code",
   "execution_count": 11,
   "metadata": {},
   "outputs": [],
   "source": [
    "# We only want to predict recidivism within 3 years\n",
    "#We are also looking at just Males\n",
    "df.drop(['Recidivism_Arrest_Year1', 'Recidivism_Arrest_Year2', 'Recidivism_Arrest_Year3', 'Gender'], axis=1, inplace=True)\n",
    "\n",
    "# Remove variables thaat are determined only after prison release\n",
    "#df.drop(['Supervision_Risk_Score_First', 'Supervision_Level_First',\n",
    "#         'Violations_ElectronicMonitoring', 'Violations_FailToReport','Violations_FailToReport', 'Violations_MoveWithoutPermission',\n",
    "#         'Delinquency_Reports', 'Program_Attendances', 'Program_UnexcusedAbsences','Residence_Changes', \n",
    "#         'DrugTests_THC_Positive', 'DrugTests_Cocaine_Positive','DrugTests_Meth_Positive', 'DrugTests_Other_Positive', \n",
    "#         'Percent_Days_Employed', 'Jobs_Per_Year', 'Employment_Exempt'], axis=1, inplace=True)"
   ]
  },
  {
   "cell_type": "markdown",
   "metadata": {},
   "source": [
    "### Data Preprocessing"
   ]
  },
  {
   "cell_type": "code",
   "execution_count": 12,
   "metadata": {},
   "outputs": [],
   "source": [
    "#Chance all Booleans to Integers\n",
    "for column in df.columns:\n",
    "    if df[column].dtype == 'bool':\n",
    "        df[column] = df[column].astype(int)\n",
    "\n",
    "# Dummy Variable for Race \n",
    "df['Race'] = df['Race'].map({'BLACK': 1, 'WHITE': 0})\n",
    "\n",
    "# Change age to integer as opposed to float\n",
    "df['Age_at_Release'] = df['Age_at_Release'].astype(int)\n"
   ]
  },
  {
   "cell_type": "code",
   "execution_count": 13,
   "metadata": {},
   "outputs": [
    {
     "data": {
      "text/plain": [
       "Race                                                   int64\n",
       "Age_at_Release                                         int64\n",
       "Residence_PUMA                                         int64\n",
       "Gang_Affiliated                                        int64\n",
       "Supervision_Risk_Score_First                         float64\n",
       "Supervision_Level_First                               object\n",
       "Education_Level                                       object\n",
       "Dependents                                             int64\n",
       "Prison_Offense                                        object\n",
       "Prison_Years                                           int64\n",
       "Prior_Arrest_Episodes_Felony                           int64\n",
       "Prior_Arrest_Episodes_Misd                             int64\n",
       "Prior_Arrest_Episodes_Violent                          int64\n",
       "Prior_Arrest_Episodes_Property                         int64\n",
       "Prior_Arrest_Episodes_Drug                             int64\n",
       "Prior_Arrest_Episodes_PPViolationCharges               int64\n",
       "Prior_Arrest_Episodes_DVCharges                        int64\n",
       "Prior_Arrest_Episodes_GunCharges                       int64\n",
       "Prior_Conviction_Episodes_Felony                       int64\n",
       "Prior_Conviction_Episodes_Misd                         int64\n",
       "Prior_Conviction_Episodes_Viol                         int64\n",
       "Prior_Conviction_Episodes_Prop                         int64\n",
       "Prior_Conviction_Episodes_Drug                         int64\n",
       "Prior_Conviction_Episodes_PPViolationCharges           int64\n",
       "Prior_Conviction_Episodes_DomesticViolenceCharges      int64\n",
       "Prior_Conviction_Episodes_GunCharges                   int64\n",
       "Prior_Revocations_Parole                               int64\n",
       "Prior_Revocations_Probation                            int64\n",
       "Condition_MH_SA                                        int64\n",
       "Condition_Cog_Ed                                       int64\n",
       "Condition_Other                                        int64\n",
       "Violations_ElectronicMonitoring                        int64\n",
       "Violations_Instruction                                 int64\n",
       "Violations_FailToReport                                int64\n",
       "Violations_MoveWithoutPermission                       int64\n",
       "Delinquency_Reports                                    int64\n",
       "Program_Attendances                                    int64\n",
       "Program_UnexcusedAbsences                              int64\n",
       "Residence_Changes                                      int64\n",
       "DrugTests_THC_Positive                                 int64\n",
       "DrugTests_Cocaine_Positive                             int64\n",
       "DrugTests_Meth_Positive                                int64\n",
       "DrugTests_Other_Positive                               int64\n",
       "Percent_Days_Employed                                float64\n",
       "Jobs_Per_Year                                        float64\n",
       "Employment_Exempt                                      int64\n",
       "Recidivism_Within_3years                               int64\n",
       "Training_Sample                                        int64\n",
       "Required_DrugTests                                     int64\n",
       "dtype: object"
      ]
     },
     "execution_count": 13,
     "metadata": {},
     "output_type": "execute_result"
    }
   ],
   "source": [
    "df.dtypes"
   ]
  },
  {
   "cell_type": "code",
   "execution_count": 14,
   "metadata": {},
   "outputs": [],
   "source": [
    "# Interger Encoded to for embeddings in NN\n",
    "df['Prison_Offense'] = df['Prison_Offense'].map({category: idx for idx, category in enumerate(df['Prison_Offense'].unique())})\n",
    "df['Education_Level'] = df['Education_Level'].map({'Less than HS diploma': 0, 'High School Diploma': 1, 'At least some college': 2})\n",
    "df['Supervision_Level_First'] = df['Supervision_Level_First'].map({'Standard': 0, 'High': 1, 'Specialized': 2})"
   ]
  },
  {
   "cell_type": "code",
   "execution_count": 15,
   "metadata": {},
   "outputs": [],
   "source": [
    "# Make Recidivism_Within_3years the last column\n",
    "cols = [col for col in df.columns if col != 'Recidivism_Within_3years']\n",
    "cols.append('Recidivism_Within_3years')\n",
    "df = df[cols]"
   ]
  },
  {
   "cell_type": "code",
   "execution_count": 16,
   "metadata": {},
   "outputs": [],
   "source": [
    "# Variables to normalize\n",
    "columns_to_normalize = ['Age_at_Release', 'Prison_Years', 'Supervision_Risk_Score_First', 'Percent_Days_Employed', 'Jobs_Per_Year']  # add other columns here\n",
    "\n",
    "# Apply Standardization\n",
    "scaler = StandardScaler()\n",
    "df[columns_to_normalize] = scaler.fit_transform(df[columns_to_normalize])\n"
   ]
  },
  {
   "cell_type": "code",
   "execution_count": 17,
   "metadata": {},
   "outputs": [],
   "source": [
    "#Split Train and Test Data\n",
    "train_df = df[df['Training_Sample'] == 1]\n",
    "test_df = df[df['Training_Sample'] == 0]\n",
    "train_df = train_df.drop(columns=['Training_Sample'])\n",
    "test_df = test_df.drop(columns=['Training_Sample'])"
   ]
  },
  {
   "cell_type": "code",
   "execution_count": 10,
   "metadata": {},
   "outputs": [],
   "source": [
    "#X = train_df.drop('Recidivism_Within_3years', axis=1)\n",
    "#y = train_df['Recidivism_Within_3years']\n",
    "\n",
    "#X_test = test_df.drop('Recidivism_Within_3years', axis=1)\n",
    "#y_test = test_df['Recidivism_Within_3years']\n",
    "\n",
    "# Normalize continuous features (if necessary)\n",
    "#scaler = StandardScaler()\n",
    "#X_train = scaler.fit_transform(X_train)\n",
    "#X_test = scaler.transform(X_test)\n"
   ]
  },
  {
   "cell_type": "code",
   "execution_count": 18,
   "metadata": {},
   "outputs": [
    {
     "data": {
      "text/plain": [
       "Index(['Race', 'Age_at_Release', 'Residence_PUMA', 'Gang_Affiliated',\n",
       "       'Supervision_Risk_Score_First', 'Supervision_Level_First',\n",
       "       'Education_Level', 'Dependents', 'Prison_Offense', 'Prison_Years',\n",
       "       'Prior_Arrest_Episodes_Felony', 'Prior_Arrest_Episodes_Misd',\n",
       "       'Prior_Arrest_Episodes_Violent', 'Prior_Arrest_Episodes_Property',\n",
       "       'Prior_Arrest_Episodes_Drug',\n",
       "       'Prior_Arrest_Episodes_PPViolationCharges',\n",
       "       'Prior_Arrest_Episodes_DVCharges', 'Prior_Arrest_Episodes_GunCharges',\n",
       "       'Prior_Conviction_Episodes_Felony', 'Prior_Conviction_Episodes_Misd',\n",
       "       'Prior_Conviction_Episodes_Viol', 'Prior_Conviction_Episodes_Prop',\n",
       "       'Prior_Conviction_Episodes_Drug',\n",
       "       'Prior_Conviction_Episodes_PPViolationCharges',\n",
       "       'Prior_Conviction_Episodes_DomesticViolenceCharges',\n",
       "       'Prior_Conviction_Episodes_GunCharges', 'Prior_Revocations_Parole',\n",
       "       'Prior_Revocations_Probation', 'Condition_MH_SA', 'Condition_Cog_Ed',\n",
       "       'Condition_Other', 'Violations_ElectronicMonitoring',\n",
       "       'Violations_Instruction', 'Violations_FailToReport',\n",
       "       'Violations_MoveWithoutPermission', 'Delinquency_Reports',\n",
       "       'Program_Attendances', 'Program_UnexcusedAbsences', 'Residence_Changes',\n",
       "       'DrugTests_THC_Positive', 'DrugTests_Cocaine_Positive',\n",
       "       'DrugTests_Meth_Positive', 'DrugTests_Other_Positive',\n",
       "       'Percent_Days_Employed', 'Jobs_Per_Year', 'Employment_Exempt',\n",
       "       'Training_Sample', 'Required_DrugTests', 'Recidivism_Within_3years'],\n",
       "      dtype='object')"
      ]
     },
     "execution_count": 18,
     "metadata": {},
     "output_type": "execute_result"
    }
   ],
   "source": [
    "df.columns"
   ]
  },
  {
   "cell_type": "markdown",
   "metadata": {},
   "source": [
    "### MLP"
   ]
  },
  {
   "cell_type": "code",
   "execution_count": 19,
   "metadata": {},
   "outputs": [
    {
     "name": "stdout",
     "output_type": "stream",
     "text": [
      "Using mps device\n"
     ]
    }
   ],
   "source": [
    "device = (\n",
    "    \"cuda\"\n",
    "    if torch.cuda.is_available()\n",
    "    else \"mps\"\n",
    "    if torch.backends.mps.is_available()\n",
    "    else \"cpu\"\n",
    ")\n",
    "print(f\"Using {device} device\")"
   ]
  },
  {
   "cell_type": "code",
   "execution_count": 20,
   "metadata": {},
   "outputs": [],
   "source": [
    "class DataFrameDataset(Dataset):\n",
    "    def __init__(self, dataframe):\n",
    "        \"\"\"\n",
    "        Args:\n",
    "            dataframe (pd.DataFrame): source data\n",
    "        \"\"\"\n",
    "        # Assuming the last column is the label\n",
    "        self.features = dataframe.iloc[:, :-1].values\n",
    "        self.labels = dataframe.iloc[:, -1].values\n",
    "\n",
    "    def __len__(self):\n",
    "        return len(self.features)\n",
    "\n",
    "    def __getitem__(self, idx):\n",
    "        if torch.is_tensor(idx):\n",
    "            idx = idx.tolist()\n",
    "\n",
    "        # Convert features and labels to tensors\n",
    "        features = torch.tensor(self.features[idx], dtype=torch.float32)\n",
    "        label = torch.tensor(self.labels[idx], dtype=torch.long)\n",
    "\n",
    "        return features, label\n"
   ]
  },
  {
   "cell_type": "code",
   "execution_count": 21,
   "metadata": {},
   "outputs": [],
   "source": [
    "#Convert pd dataframe to torch dataset\n",
    "train_dataset = DataFrameDataset(train_df)\n",
    "test_dataset = DataFrameDataset(train_df)\n",
    "\n",
    "# use 15% of training data for validation\n",
    "train_set_size = int(len(train_dataset) * 0.85)\n",
    "valid_set_size = len(train_dataset) - train_set_size\n",
    "train_set, valid_set = torch.utils.data.random_split(train_dataset, [train_set_size, valid_set_size], generator=torch.Generator().manual_seed(42))\n",
    "\n",
    "# DataLoaders\n",
    "train_loader = DataLoader(train_set, batch_size=256, shuffle=True)\n",
    "total_train_loader = DataLoader(train_dataset, batch_size=256, shuffle=True)\n",
    "val_loader = DataLoader(valid_set, batch_size=256, shuffle=False)\n",
    "test_loader = DataLoader(test_dataset, batch_size=256, shuffle=False)"
   ]
  },
  {
   "cell_type": "code",
   "execution_count": 37,
   "metadata": {},
   "outputs": [],
   "source": [
    "class MLP(nn.Module):\n",
    "    def __init__(self):\n",
    "        super(MLP, self).__init__()\n",
    "        # Create fully connected layers (nn.Linear)\n",
    "        ### START CODE ###\n",
    "        self.fc1 = nn.Linear(47, 50)\n",
    "        self.fc2 = nn.Linear(50, 50)\n",
    "        self.fc3 = nn.Linear(50, 1)\n",
    "        ### END CODE ###\n",
    "\n",
    "    def forward(self, x):\n",
    "        ### START CODE ###\n",
    "        x = F.relu(self.fc1(x))\n",
    "        x = F.relu(self.fc2(x))\n",
    "        x = self.fc3(x)\n",
    "        ### END CODE ###\n",
    "        return x\n"
   ]
  },
  {
   "cell_type": "code",
   "execution_count": 38,
   "metadata": {},
   "outputs": [],
   "source": [
    "model = MLP()\n",
    "# Create the optimizer\n",
    "### START CODE ###\n",
    "optimizer = torch.optim.Adam(model.parameters(), lr=1e-3)\n",
    "### END CODE ###"
   ]
  },
  {
   "cell_type": "code",
   "execution_count": 39,
   "metadata": {},
   "outputs": [],
   "source": [
    "# Create the loss function instance\n",
    "criterion = torch.nn.BCEWithLogitsLoss()\n",
    "\n",
    "def train(model, loader, optimizer):\n",
    "    model.train()\n",
    "    total_loss = 0\n",
    "    total_num = 0\n",
    "    for data, target in tqdm(loader):\n",
    "        out = model(data)\n",
    "        # Calculate loss based on model output and target\n",
    "        ### START CODE ###\n",
    "        target = target.unsqueeze(1) \n",
    "        loss = criterion(out, target.float())\n",
    "        ### END CODE ###\n",
    "\n",
    "        # Use the optimizer to perform backpropagation\n",
    "        ### START CODE ###\n",
    "        optimizer.zero_grad()\n",
    "        loss.backward()\n",
    "        optimizer.step()\n",
    "        ### END CODE ###\n",
    "\n",
    "        batch_size = len(target)\n",
    "        total_loss += loss.item() * batch_size\n",
    "        total_num += batch_size\n",
    "    avg_loss = total_loss / total_num\n",
    "    return avg_loss\n",
    "\n",
    "@torch.no_grad()\n",
    "def eval(model, loader):\n",
    "    model.eval()\n",
    "    total_loss = 0\n",
    "    total_correct = 0\n",
    "    total_num = 0\n",
    "    for data, target in tqdm(loader):\n",
    "        out = model(data)\n",
    "        # Calculate loss based on model output and target\n",
    "        ### START CODE ###\n",
    "        target = target.unsqueeze(1) \n",
    "        loss = criterion(out, target.float())\n",
    "        ### END CODE ###\n",
    "\n",
    "        # Get model's prediction\n",
    "        ### START CODE ###\n",
    "        pred = torch.sigmoid(out) >= 0.5\n",
    "        ### END CODE ###\n",
    "\n",
    "        # Count number of correct predictions\n",
    "        ### START CODE ###\n",
    "        correct = (pred.float() == target.float()).sum().item()\n",
    "        ### END CODE ###\n",
    "\n",
    "        total_correct += correct\n",
    "        batch_size = len(target)\n",
    "        total_loss += loss.item() * batch_size\n",
    "        total_num += batch_size\n",
    "    avg_loss = total_loss / total_num\n",
    "    acc = total_correct / total_num\n",
    "    return avg_loss, acc\n"
   ]
  },
  {
   "cell_type": "code",
   "execution_count": 40,
   "metadata": {},
   "outputs": [
    {
     "name": "stderr",
     "output_type": "stream",
     "text": [
      "100%|██████████| 53/53 [00:00<00:00, 311.25it/s]\n",
      "100%|██████████| 10/10 [00:00<00:00, 491.47it/s]\n"
     ]
    },
    {
     "name": "stdout",
     "output_type": "stream",
     "text": [
      "Epoch: 1 Train Loss: 0.642128922274198 Val Loss: 0.6010701239209553 Val Acc: 0.6859190556492412\n"
     ]
    },
    {
     "name": "stderr",
     "output_type": "stream",
     "text": [
      "100%|██████████| 53/53 [00:00<00:00, 277.82it/s]\n",
      "100%|██████████| 10/10 [00:00<00:00, 254.78it/s]\n"
     ]
    },
    {
     "name": "stdout",
     "output_type": "stream",
     "text": [
      "Epoch: 2 Train Loss: 0.5874465268738116 Val Loss: 0.5652638913005038 Val Acc: 0.7095278246205734\n"
     ]
    },
    {
     "name": "stderr",
     "output_type": "stream",
     "text": [
      "100%|██████████| 53/53 [00:00<00:00, 251.27it/s]\n",
      "100%|██████████| 10/10 [00:00<00:00, 443.13it/s]\n"
     ]
    },
    {
     "name": "stdout",
     "output_type": "stream",
     "text": [
      "Epoch: 3 Train Loss: 0.566139085239239 Val Loss: 0.5521509763965318 Val Acc: 0.7221753794266442\n"
     ]
    },
    {
     "name": "stderr",
     "output_type": "stream",
     "text": [
      "100%|██████████| 53/53 [00:00<00:00, 207.75it/s]\n",
      "100%|██████████| 10/10 [00:00<00:00, 265.97it/s]\n"
     ]
    },
    {
     "name": "stdout",
     "output_type": "stream",
     "text": [
      "Epoch: 4 Train Loss: 0.5578237975120047 Val Loss: 0.5481150324187833 Val Acc: 0.7280775716694773\n"
     ]
    },
    {
     "name": "stderr",
     "output_type": "stream",
     "text": [
      "100%|██████████| 53/53 [00:00<00:00, 250.42it/s]\n",
      "100%|██████████| 10/10 [00:00<00:00, 322.93it/s]\n"
     ]
    },
    {
     "name": "stdout",
     "output_type": "stream",
     "text": [
      "Epoch: 5 Train Loss: 0.5521821093946014 Val Loss: 0.5441371790474221 Val Acc: 0.7276559865092749\n"
     ]
    },
    {
     "name": "stderr",
     "output_type": "stream",
     "text": [
      "100%|██████████| 53/53 [00:00<00:00, 213.06it/s]\n",
      "100%|██████████| 10/10 [00:00<00:00, 475.97it/s]\n"
     ]
    },
    {
     "name": "stdout",
     "output_type": "stream",
     "text": [
      "Epoch: 6 Train Loss: 0.549409640488219 Val Loss: 0.5421208217614417 Val Acc: 0.7234401349072512\n"
     ]
    },
    {
     "name": "stderr",
     "output_type": "stream",
     "text": [
      "100%|██████████| 53/53 [00:00<00:00, 253.59it/s]\n",
      "100%|██████████| 10/10 [00:00<00:00, 273.33it/s]\n"
     ]
    },
    {
     "name": "stdout",
     "output_type": "stream",
     "text": [
      "Epoch: 7 Train Loss: 0.5477677937978186 Val Loss: 0.5383169521368776 Val Acc: 0.7318718381112985\n"
     ]
    },
    {
     "name": "stderr",
     "output_type": "stream",
     "text": [
      "100%|██████████| 53/53 [00:00<00:00, 237.63it/s]\n",
      "100%|██████████| 10/10 [00:00<00:00, 459.30it/s]\n"
     ]
    },
    {
     "name": "stdout",
     "output_type": "stream",
     "text": [
      "Epoch: 8 Train Loss: 0.5449599915471883 Val Loss: 0.5468834241566328 Val Acc: 0.7272344013490725\n"
     ]
    },
    {
     "name": "stderr",
     "output_type": "stream",
     "text": [
      "100%|██████████| 53/53 [00:00<00:00, 340.80it/s]\n",
      "100%|██████████| 10/10 [00:00<00:00, 446.99it/s]\n"
     ]
    },
    {
     "name": "stdout",
     "output_type": "stream",
     "text": [
      "Epoch: 9 Train Loss: 0.542896078109067 Val Loss: 0.5442539621364407 Val Acc: 0.7192242833052277\n"
     ]
    },
    {
     "name": "stderr",
     "output_type": "stream",
     "text": [
      "100%|██████████| 53/53 [00:00<00:00, 286.26it/s]\n",
      "100%|██████████| 10/10 [00:00<00:00, 295.24it/s]\n"
     ]
    },
    {
     "name": "stdout",
     "output_type": "stream",
     "text": [
      "Epoch: 10 Train Loss: 0.5394677936418735 Val Loss: 0.5382111884691261 Val Acc: 0.7322934232715008\n"
     ]
    },
    {
     "name": "stderr",
     "output_type": "stream",
     "text": [
      "100%|██████████| 53/53 [00:00<00:00, 165.33it/s]\n",
      "100%|██████████| 10/10 [00:00<00:00, 210.64it/s]\n"
     ]
    },
    {
     "name": "stdout",
     "output_type": "stream",
     "text": [
      "Epoch: 11 Train Loss: 0.5361201266543799 Val Loss: 0.5357669626078356 Val Acc: 0.7344013490725126\n"
     ]
    },
    {
     "name": "stderr",
     "output_type": "stream",
     "text": [
      "100%|██████████| 53/53 [00:00<00:00, 196.20it/s]\n",
      "100%|██████████| 10/10 [00:00<00:00, 432.43it/s]\n"
     ]
    },
    {
     "name": "stdout",
     "output_type": "stream",
     "text": [
      "Epoch: 12 Train Loss: 0.53394274312574 Val Loss: 0.5328686308699957 Val Acc: 0.734822934232715\n"
     ]
    },
    {
     "name": "stderr",
     "output_type": "stream",
     "text": [
      "100%|██████████| 53/53 [00:00<00:00, 317.29it/s]\n",
      "100%|██████████| 10/10 [00:00<00:00, 485.06it/s]\n"
     ]
    },
    {
     "name": "stdout",
     "output_type": "stream",
     "text": [
      "Epoch: 13 Train Loss: 0.5317982934008966 Val Loss: 0.5350400417490311 Val Acc: 0.725548060708263\n"
     ]
    },
    {
     "name": "stderr",
     "output_type": "stream",
     "text": [
      "100%|██████████| 53/53 [00:00<00:00, 327.92it/s]\n",
      "100%|██████████| 10/10 [00:00<00:00, 485.77it/s]\n"
     ]
    },
    {
     "name": "stdout",
     "output_type": "stream",
     "text": [
      "Epoch: 14 Train Loss: 0.5308723770726764 Val Loss: 0.5335766327320826 Val Acc: 0.7247048903878583\n"
     ]
    },
    {
     "name": "stderr",
     "output_type": "stream",
     "text": [
      "100%|██████████| 53/53 [00:00<00:00, 234.66it/s]\n",
      "100%|██████████| 10/10 [00:00<00:00, 188.30it/s]"
     ]
    },
    {
     "name": "stdout",
     "output_type": "stream",
     "text": [
      "Epoch: 15 Train Loss: 0.5273309479477204 Val Loss: 0.5343082749220412 Val Acc: 0.7284991568296796\n"
     ]
    },
    {
     "name": "stderr",
     "output_type": "stream",
     "text": [
      "\n"
     ]
    }
   ],
   "source": [
    "epochs = 15\n",
    "for e in range(1, epochs + 1):\n",
    "    train_loss = train(model, train_loader, optimizer)\n",
    "    val_loss, val_acc = eval(model, val_loader)\n",
    "    print(f\"Epoch: {e} Train Loss: {train_loss} Val Loss: {val_loss} Val Acc: {val_acc}\")"
   ]
  },
  {
   "cell_type": "code",
   "execution_count": 41,
   "metadata": {},
   "outputs": [
    {
     "name": "stdout",
     "output_type": "stream",
     "text": [
      "Test Accuracy: 74.01%\n"
     ]
    }
   ],
   "source": [
    "@torch.no_grad()\n",
    "def test_accuracy(model, loader):\n",
    "    model.eval()\n",
    "    total_correct = 0\n",
    "    total_num = 0\n",
    "    all_preds = []\n",
    "    all_targets = []\n",
    "\n",
    "    for data, target in loader:\n",
    "        out = model(data)\n",
    "        pred = torch.sigmoid(out) >= 0.5\n",
    "        correct = (pred.float() == target.unsqueeze(1).float()).sum().item()\n",
    "\n",
    "        total_correct += correct\n",
    "        total_num += len(target)\n",
    "\n",
    "        all_preds.extend(pred.view(-1).cpu().numpy())\n",
    "        all_targets.extend(target.cpu().numpy())\n",
    "\n",
    "    acc = total_correct / total_num\n",
    "    return acc, all_preds, all_targets\n",
    "\n",
    "test_acc, all_preds, all_targets = test_accuracy(model, test_loader)\n",
    "print(f\"Test Accuracy: {test_acc * 100:.2f}%\")\n"
   ]
  },
  {
   "cell_type": "code",
   "execution_count": 42,
   "metadata": {},
   "outputs": [],
   "source": [
    "@torch.no_grad()\n",
    "def test_accuracy(model, loader):\n",
    "    model.eval()\n",
    "    total_correct = 0\n",
    "    total_num = 0\n",
    "    all_preds = []\n",
    "    all_targets = []\n",
    "    all_probs = []  # To store probability estimates\n",
    "\n",
    "    for data, target in loader:\n",
    "        out = model(data)\n",
    "        pred = torch.sigmoid(out) >= 0.5\n",
    "        correct = (pred.float() == target.unsqueeze(1).float()).sum().item()\n",
    "\n",
    "        total_correct += correct\n",
    "        total_num += len(target)\n",
    "\n",
    "        all_preds.extend(pred.view(-1).cpu().numpy())\n",
    "        all_targets.extend(target.cpu().numpy())\n",
    "        all_probs.extend(torch.sigmoid(out).cpu().numpy())  # Store probability estimates\n",
    "\n",
    "    acc = total_correct / total_num\n",
    "    return acc, all_preds, all_targets, all_probs  # Return probability estimates\n"
   ]
  },
  {
   "cell_type": "code",
   "execution_count": null,
   "metadata": {},
   "outputs": [],
   "source": [
    "@torch.no_grad()\n",
    "def test_roc_auc(model, loader):\n",
    "    model.eval()\n",
    "    all_preds = []\n",
    "    all_targets = []\n",
    "\n",
    "    for data, target in loader:\n",
    "        out = model(data)\n",
    "        pred = torch.sigmoid(out)\n",
    "        \n",
    "        all_preds.extend(pred.view(-1).cpu().numpy())\n",
    "        all_targets.extend(target.cpu().numpy())\n",
    "\n",
    "    roc_auc = roc_auc_score(all_targets, all_preds)\n",
    "    return roc_auc"
   ]
  },
  {
   "cell_type": "code",
   "execution_count": 48,
   "metadata": {},
   "outputs": [
    {
     "name": "stdout",
     "output_type": "stream",
     "text": [
      "ROC AUC Score on Test Set: 0.8271\n",
      "Brier Score on Test Set: 0.1645\n"
     ]
    }
   ],
   "source": [
    "from sklearn.metrics import brier_score_loss\n",
    "\n",
    "roc_auc = test_roc_auc(model, test_loader)\n",
    "print(f\"ROC AUC Score on Test Set: {roc_auc:.4f}\")\n",
    "\n",
    "# Calculate the Brier Score using probability estimates\n",
    "test_acc, _, _, all_probs = test_accuracy(model, test_loader)\n",
    "brier_score = brier_score_loss(all_targets, all_probs)\n",
    "print(f\"Brier Score on Test Set: {brier_score:.4f}\")"
   ]
  },
  {
   "cell_type": "code",
   "execution_count": 44,
   "metadata": {},
   "outputs": [
    {
     "name": "stderr",
     "output_type": "stream",
     "text": [
      "100%|██████████| 62/62 [00:00<00:00, 320.92it/s]\n",
      "100%|██████████| 10/10 [00:00<00:00, 422.14it/s]\n"
     ]
    },
    {
     "name": "stdout",
     "output_type": "stream",
     "text": [
      "Epoch: 1 Train Loss: 0.5267751946876627 Val Loss: 0.5285633766228995 Val Acc: 0.7365092748735245\n"
     ]
    },
    {
     "name": "stderr",
     "output_type": "stream",
     "text": [
      "100%|██████████| 62/62 [00:00<00:00, 323.90it/s]\n",
      "100%|██████████| 10/10 [00:00<00:00, 394.37it/s]\n"
     ]
    },
    {
     "name": "stdout",
     "output_type": "stream",
     "text": [
      "Epoch: 2 Train Loss: 0.5249510515490894 Val Loss: 0.523042762560949 Val Acc: 0.7377740303541316\n"
     ]
    },
    {
     "name": "stderr",
     "output_type": "stream",
     "text": [
      "100%|██████████| 62/62 [00:00<00:00, 207.74it/s]\n",
      "100%|██████████| 10/10 [00:00<00:00, 429.28it/s]\n"
     ]
    },
    {
     "name": "stdout",
     "output_type": "stream",
     "text": [
      "Epoch: 3 Train Loss: 0.5204986320124896 Val Loss: 0.5293144788750107 Val Acc: 0.7360876897133221\n"
     ]
    },
    {
     "name": "stderr",
     "output_type": "stream",
     "text": [
      "100%|██████████| 62/62 [00:00<00:00, 277.89it/s]\n",
      "100%|██████████| 10/10 [00:00<00:00, 444.86it/s]\n"
     ]
    },
    {
     "name": "stdout",
     "output_type": "stream",
     "text": [
      "Epoch: 4 Train Loss: 0.5200715792954936 Val Loss: 0.5197384436858243 Val Acc: 0.7440978077571669\n"
     ]
    },
    {
     "name": "stderr",
     "output_type": "stream",
     "text": [
      "100%|██████████| 62/62 [00:00<00:00, 252.27it/s]\n",
      "100%|██████████| 10/10 [00:00<00:00, 213.47it/s]\n"
     ]
    },
    {
     "name": "stdout",
     "output_type": "stream",
     "text": [
      "Epoch: 5 Train Loss: 0.5189504753585016 Val Loss: 0.5181113383018147 Val Acc: 0.7403035413153457\n"
     ]
    },
    {
     "name": "stderr",
     "output_type": "stream",
     "text": [
      "100%|██████████| 62/62 [00:00<00:00, 245.11it/s]\n",
      "100%|██████████| 10/10 [00:00<00:00, 395.49it/s]\n"
     ]
    },
    {
     "name": "stdout",
     "output_type": "stream",
     "text": [
      "Epoch: 6 Train Loss: 0.5172651898407798 Val Loss: 0.5260467274997126 Val Acc: 0.7352445193929174\n"
     ]
    },
    {
     "name": "stderr",
     "output_type": "stream",
     "text": [
      "100%|██████████| 62/62 [00:00<00:00, 272.73it/s]\n",
      "100%|██████████| 10/10 [00:00<00:00, 253.34it/s]\n"
     ]
    },
    {
     "name": "stdout",
     "output_type": "stream",
     "text": [
      "Epoch: 7 Train Loss: 0.5149892456681111 Val Loss: 0.5133234401175385 Val Acc: 0.7474704890387859\n"
     ]
    },
    {
     "name": "stderr",
     "output_type": "stream",
     "text": [
      "100%|██████████| 62/62 [00:00<00:00, 247.74it/s]\n",
      "100%|██████████| 10/10 [00:00<00:00, 442.55it/s]\n"
     ]
    },
    {
     "name": "stdout",
     "output_type": "stream",
     "text": [
      "Epoch: 8 Train Loss: 0.5129594669819452 Val Loss: 0.5143380505841659 Val Acc: 0.7432546374367622\n"
     ]
    },
    {
     "name": "stderr",
     "output_type": "stream",
     "text": [
      "100%|██████████| 62/62 [00:00<00:00, 332.43it/s]\n",
      "100%|██████████| 10/10 [00:00<00:00, 490.41it/s]\n"
     ]
    },
    {
     "name": "stdout",
     "output_type": "stream",
     "text": [
      "Epoch: 9 Train Loss: 0.5138696606486732 Val Loss: 0.5117712165613801 Val Acc: 0.7470489038785835\n"
     ]
    },
    {
     "name": "stderr",
     "output_type": "stream",
     "text": [
      "100%|██████████| 62/62 [00:00<00:00, 253.20it/s]\n",
      "100%|██████████| 10/10 [00:00<00:00, 461.13it/s]\n"
     ]
    },
    {
     "name": "stdout",
     "output_type": "stream",
     "text": [
      "Epoch: 10 Train Loss: 0.5105332222030704 Val Loss: 0.5135679810384876 Val Acc: 0.7474704890387859\n"
     ]
    },
    {
     "name": "stderr",
     "output_type": "stream",
     "text": [
      "100%|██████████| 62/62 [00:00<00:00, 324.38it/s]\n",
      "100%|██████████| 10/10 [00:00<00:00, 484.05it/s]\n"
     ]
    },
    {
     "name": "stdout",
     "output_type": "stream",
     "text": [
      "Epoch: 11 Train Loss: 0.5092018951249149 Val Loss: 0.5080550390391486 Val Acc: 0.7478920741989882\n"
     ]
    },
    {
     "name": "stderr",
     "output_type": "stream",
     "text": [
      "100%|██████████| 62/62 [00:00<00:00, 216.64it/s]\n",
      "100%|██████████| 10/10 [00:00<00:00, 444.94it/s]\n"
     ]
    },
    {
     "name": "stdout",
     "output_type": "stream",
     "text": [
      "Epoch: 12 Train Loss: 0.5058969749414252 Val Loss: 0.5076657722108883 Val Acc: 0.7470489038785835\n"
     ]
    },
    {
     "name": "stderr",
     "output_type": "stream",
     "text": [
      "100%|██████████| 62/62 [00:00<00:00, 227.87it/s]\n",
      "100%|██████████| 10/10 [00:00<00:00, 270.20it/s]\n"
     ]
    },
    {
     "name": "stdout",
     "output_type": "stream",
     "text": [
      "Epoch: 13 Train Loss: 0.5057489110116722 Val Loss: 0.5064780864908562 Val Acc: 0.7445193929173693\n"
     ]
    },
    {
     "name": "stderr",
     "output_type": "stream",
     "text": [
      "100%|██████████| 62/62 [00:00<00:00, 291.81it/s]\n",
      "100%|██████████| 10/10 [00:00<00:00, 390.64it/s]\n"
     ]
    },
    {
     "name": "stdout",
     "output_type": "stream",
     "text": [
      "Epoch: 14 Train Loss: 0.5057778060492796 Val Loss: 0.5084787411191211 Val Acc: 0.7440978077571669\n"
     ]
    },
    {
     "name": "stderr",
     "output_type": "stream",
     "text": [
      "100%|██████████| 62/62 [00:00<00:00, 165.46it/s]\n",
      "100%|██████████| 10/10 [00:00<00:00, 462.53it/s]\n"
     ]
    },
    {
     "name": "stdout",
     "output_type": "stream",
     "text": [
      "Epoch: 15 Train Loss: 0.5032025126897137 Val Loss: 0.5045866444078706 Val Acc: 0.7478920741989882\n"
     ]
    },
    {
     "ename": "ValueError",
     "evalue": "too many values to unpack (expected 3)",
     "output_type": "error",
     "traceback": [
      "\u001b[0;31m---------------------------------------------------------------------------\u001b[0m",
      "\u001b[0;31mValueError\u001b[0m                                Traceback (most recent call last)",
      "\u001b[1;32m/Users/albertjoe33/mac_only_docs/ece_project/nn_model_post.ipynb Cell 24\u001b[0m line \u001b[0;36m8\n\u001b[1;32m      <a href='vscode-notebook-cell:/Users/albertjoe33/mac_only_docs/ece_project/nn_model_post.ipynb#X31sZmlsZQ%3D%3D?line=4'>5</a>\u001b[0m     \u001b[39mprint\u001b[39m(\u001b[39mf\u001b[39m\u001b[39m\"\u001b[39m\u001b[39mEpoch: \u001b[39m\u001b[39m{\u001b[39;00me\u001b[39m}\u001b[39;00m\u001b[39m Train Loss: \u001b[39m\u001b[39m{\u001b[39;00mtrain_loss\u001b[39m}\u001b[39;00m\u001b[39m Val Loss: \u001b[39m\u001b[39m{\u001b[39;00mval_loss\u001b[39m}\u001b[39;00m\u001b[39m Val Acc: \u001b[39m\u001b[39m{\u001b[39;00mval_acc\u001b[39m}\u001b[39;00m\u001b[39m\"\u001b[39m)\n\u001b[1;32m      <a href='vscode-notebook-cell:/Users/albertjoe33/mac_only_docs/ece_project/nn_model_post.ipynb#X31sZmlsZQ%3D%3D?line=6'>7</a>\u001b[0m \u001b[39m# After training, evaluate on the test set\u001b[39;00m\n\u001b[0;32m----> <a href='vscode-notebook-cell:/Users/albertjoe33/mac_only_docs/ece_project/nn_model_post.ipynb#X31sZmlsZQ%3D%3D?line=7'>8</a>\u001b[0m test_acc, all_preds, all_targets \u001b[39m=\u001b[39m test_accuracy(model, test_loader)\n\u001b[1;32m      <a href='vscode-notebook-cell:/Users/albertjoe33/mac_only_docs/ece_project/nn_model_post.ipynb#X31sZmlsZQ%3D%3D?line=8'>9</a>\u001b[0m \u001b[39mprint\u001b[39m(\u001b[39mf\u001b[39m\u001b[39m\"\u001b[39m\u001b[39mTest Accuracy: \u001b[39m\u001b[39m{\u001b[39;00mtest_acc \u001b[39m*\u001b[39m \u001b[39m100\u001b[39m\u001b[39m:\u001b[39;00m\u001b[39m.2f\u001b[39m\u001b[39m}\u001b[39;00m\u001b[39m%\u001b[39m\u001b[39m\"\u001b[39m)\n",
      "\u001b[0;31mValueError\u001b[0m: too many values to unpack (expected 3)"
     ]
    }
   ],
   "source": [
    "epochs = 15\n",
    "for e in range(1, epochs + 1):\n",
    "    train_loss = train(model, total_train_loader, optimizer)  # Use total_train_loader\n",
    "    val_loss, val_acc = eval(model, val_loader)\n",
    "    print(f\"Epoch: {e} Train Loss: {train_loss} Val Loss: {val_loss} Val Acc: {val_acc}\")\n",
    "\n",
    "# After training, evaluate on the test set\n",
    "test_acc, all_preds, all_targets = test_accuracy(model, test_loader)\n",
    "print(f\"Test Accuracy: {test_acc * 100:.2f}%\")\n"
   ]
  },
  {
   "cell_type": "code",
   "execution_count": 45,
   "metadata": {},
   "outputs": [
    {
     "data": {
      "image/png": "[encoded data removed]",
      "text/plain": [
       "<Figure size 600x600 with 2 Axes>"
      ]
     },
     "metadata": {},
     "output_type": "display_data"
    }
   ],
   "source": [
    "# Calculate the confusion matrix\n",
    "cm = confusion_matrix(all_targets, all_preds)\n",
    "\n",
    "# Plotting the confusion matrix\n",
    "plt.figure(figsize=(6, 6))\n",
    "sns.heatmap(cm, annot=True, fmt=\"d\", cmap=\"Blues\")\n",
    "plt.title(\"Confusion Matrix\")\n",
    "plt.xlabel(\"Predicted Label\")\n",
    "plt.ylabel(\"True Label\")\n",
    "plt.show()\n"
   ]
  },
  {
   "cell_type": "code",
   "execution_count": 47,
   "metadata": {},
   "outputs": [
    {
     "name": "stdout",
     "output_type": "stream",
     "text": [
      "ROC AUC Score on Test Set: 0.8271\n"
     ]
    }
   ],
   "source": [
    "@torch.no_grad()\n",
    "def test_roc_auc(model, loader):\n",
    "    model.eval()\n",
    "    all_preds = []\n",
    "    all_targets = []\n",
    "\n",
    "    for data, target in loader:\n",
    "        out = model(data)\n",
    "        pred = torch.sigmoid(out)\n",
    "        \n",
    "        all_preds.extend(pred.view(-1).cpu().numpy())\n",
    "        all_targets.extend(target.cpu().numpy())\n",
    "\n",
    "    roc_auc = roc_auc_score(all_targets, all_preds)\n",
    "    return roc_auc\n",
    "\n",
    "roc_auc = test_roc_auc(model, test_loader)\n",
    "print(f\"ROC AUC Score on Test Set: {roc_auc:.4f}\")"
   ]
  },
  {
   "cell_type": "code",
   "execution_count": null,
   "metadata": {},
   "outputs": [],
   "source": []
  }
 ],
 "metadata": {
  "kernelspec": {
   "display_name": "ece381",
   "language": "python",
   "name": "python3"
  },
  "language_info": {
   "codemirror_mode": {
    "name": "ipython",
    "version": 3
   },
   "file_extension": ".py",
   "mimetype": "text/x-python",
   "name": "python",
   "nbconvert_exporter": "python",
   "pygments_lexer": "ipython3",
   "version": "3.10.9"
  }
 },
 "nbformat": 4,
 "nbformat_minor": 2
}
