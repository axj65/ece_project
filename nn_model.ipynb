{
 "cells": [
  {
   "cell_type": "code",
   "execution_count": 1,
   "metadata": {},
   "outputs": [],
   "source": [
    "import pandas as pd\n",
    "import numpy as np\n",
    "\n",
    "from sklearn.preprocessing import StandardScaler\n",
    "from sklearn.model_selection import KFold\n",
    "from sklearn.model_selection import train_test_split\n",
    "from sklearn.metrics import accuracy_score, confusion_matrix\n",
    "from sklearn.metrics import roc_auc_score, roc_curve, auc\n",
    "\n",
    "import torch\n",
    "from torch.utils.data import Dataset, DataLoader, random_split\n",
    "import torch.nn as nn\n",
    "import torch.nn.functional as F\n",
    "\n",
    "from tqdm import tqdm\n",
    "import matplotlib.pyplot as plt\n",
    "import seaborn as sns\n",
    "\n",
    "#import data\n",
    "df = pd.read_csv('data/Recidivism_Data_cleaned.csv')\n",
    "df_original = df.copy()\n"
   ]
  },
  {
   "cell_type": "code",
   "execution_count": 2,
   "metadata": {},
   "outputs": [],
   "source": [
    "# We only want to predict recidivism within 3 years\n",
    "#We are also looking at just Males\n",
    "df.drop(['Recidivism_Arrest_Year1', 'Recidivism_Arrest_Year2', 'Recidivism_Arrest_Year3', 'Gender'], axis=1, inplace=True)\n",
    "\n",
    "# Remove variables thaat are determined only after prison release\n",
    "df.drop(['Supervision_Risk_Score_First', 'Supervision_Level_First',\n",
    "         'Violations_ElectronicMonitoring', 'Violations_FailToReport','Violations_FailToReport', 'Violations_MoveWithoutPermission',\n",
    "         'Delinquency_Reports', 'Program_Attendances', 'Program_UnexcusedAbsences','Residence_Changes', \n",
    "         'DrugTests_THC_Positive', 'DrugTests_Cocaine_Positive','DrugTests_Meth_Positive', 'DrugTests_Other_Positive', \n",
    "         'Percent_Days_Employed', 'Jobs_Per_Year', 'Employment_Exempt'], axis=1, inplace=True)"
   ]
  },
  {
   "cell_type": "markdown",
   "metadata": {},
   "source": [
    "### Data Preprocessing"
   ]
  },
  {
   "cell_type": "code",
   "execution_count": 3,
   "metadata": {},
   "outputs": [],
   "source": [
    "#Chance all Booleans to Integers\n",
    "for column in df.columns:\n",
    "    if df[column].dtype == 'bool':\n",
    "        df[column] = df[column].astype(int)\n",
    "\n",
    "# Dummy Variable for Race \n",
    "df['Race'] = df['Race'].map({'BLACK': 1, 'WHITE': 0})\n",
    "\n",
    "# Change age to integer as opposed to float\n",
    "df['Age_at_Release'] = df['Age_at_Release'].astype(int)\n",
    "\n",
    "# Interger Encoded to for embeddings in NN\n",
    "df['Prison_Offense'] = df['Prison_Offense'].map({category: idx for idx, category in enumerate(df['Prison_Offense'].unique())})\n",
    "df['Education_Level'] = df['Education_Level'].map({'Less than HS diploma': 0, 'High School Diploma': 1, 'At least some college': 2})\n",
    "\n",
    "# Make Recidivism_Within_3years the last column\n",
    "cols = [col for col in df.columns if col != 'Recidivism_Within_3years']\n",
    "cols.append('Recidivism_Within_3years')\n",
    "df = df[cols]"
   ]
  },
  {
   "cell_type": "code",
   "execution_count": 4,
   "metadata": {},
   "outputs": [],
   "source": [
    "# Variables to normalize\n",
    "columns_to_normalize = ['Age_at_Release', 'Prison_Years']  # add other columns here\n",
    "\n",
    "# Apply Standardization\n",
    "scaler = StandardScaler()\n",
    "df[columns_to_normalize] = scaler.fit_transform(df[columns_to_normalize])\n",
    "\n",
    "#Split Train and Test Data\n",
    "train_df = df[df['Training_Sample'] == 1]\n",
    "test_df = df[df['Training_Sample'] == 0]\n",
    "train_df = train_df.drop(columns=['Training_Sample'])\n",
    "test_df = test_df.drop(columns=['Training_Sample'])"
   ]
  },
  {
   "cell_type": "markdown",
   "metadata": {},
   "source": [
    "### MLP"
   ]
  },
  {
   "cell_type": "code",
   "execution_count": 5,
   "metadata": {},
   "outputs": [
    {
     "name": "stdout",
     "output_type": "stream",
     "text": [
      "Using mps device\n"
     ]
    }
   ],
   "source": [
    "device = (\n",
    "    \"cuda\"\n",
    "    if torch.cuda.is_available()\n",
    "    else \"mps\"\n",
    "    if torch.backends.mps.is_available()\n",
    "    else \"cpu\"\n",
    ")\n",
    "print(f\"Using {device} device\")"
   ]
  },
  {
   "cell_type": "code",
   "execution_count": 6,
   "metadata": {},
   "outputs": [],
   "source": [
    "class DataFrameDataset(Dataset):\n",
    "    def __init__(self, dataframe):\n",
    "        \"\"\"\n",
    "        Args:\n",
    "            dataframe (pd.DataFrame): source data\n",
    "        \"\"\"\n",
    "        # Assuming the last column is the label\n",
    "        self.features = dataframe.iloc[:, :-1].values\n",
    "        self.labels = dataframe.iloc[:, -1].values\n",
    "\n",
    "    def __len__(self):\n",
    "        return len(self.features)\n",
    "\n",
    "    def __getitem__(self, idx):\n",
    "        if torch.is_tensor(idx):\n",
    "            idx = idx.tolist()\n",
    "\n",
    "        # Convert features and labels to tensors\n",
    "        features = torch.tensor(self.features[idx], dtype=torch.float32)\n",
    "        label = torch.tensor(self.labels[idx], dtype=torch.long)\n",
    "\n",
    "        return features, label\n"
   ]
  },
  {
   "cell_type": "code",
   "execution_count": 7,
   "metadata": {},
   "outputs": [],
   "source": [
    "#Convert pd dataframe to torch dataset\n",
    "train_dataset = DataFrameDataset(train_df)\n",
    "test_dataset = DataFrameDataset(train_df)\n",
    "\n",
    "# use 15% of training data for validation\n",
    "train_set_size = int(len(train_dataset) * 0.85)\n",
    "valid_set_size = len(train_dataset) - train_set_size\n",
    "train_set, valid_set = torch.utils.data.random_split(train_dataset, [train_set_size, valid_set_size], generator=torch.Generator().manual_seed(42))\n",
    "\n",
    "# DataLoaders\n",
    "train_loader = DataLoader(train_set, batch_size=256, shuffle=True)\n",
    "total_train_loader = DataLoader(train_dataset, batch_size=256, shuffle=True)\n",
    "val_loader = DataLoader(valid_set, batch_size=256, shuffle=False)\n",
    "test_loader = DataLoader(test_dataset, batch_size=256, shuffle=False)"
   ]
  },
  {
   "cell_type": "code",
   "execution_count": 8,
   "metadata": {},
   "outputs": [],
   "source": [
    "class MLP(nn.Module):\n",
    "    def __init__(self):\n",
    "        super(MLP, self).__init__()\n",
    "        # Create fully connected layers (nn.Linear)\n",
    "        ### START CODE ###\n",
    "        self.fc1 = nn.Linear(31, 50)\n",
    "        self.fc2 = nn.Linear(50, 50)\n",
    "        self.fc3 = nn.Linear(50, 1)\n",
    "        ### END CODE ###\n",
    "\n",
    "    def forward(self, x):\n",
    "        ### START CODE ###\n",
    "        x = F.relu(self.fc1(x))\n",
    "        x = F.relu(self.fc2(x))\n",
    "        x = self.fc3(x)\n",
    "        ### END CODE ###\n",
    "        return x\n"
   ]
  },
  {
   "cell_type": "code",
   "execution_count": 9,
   "metadata": {},
   "outputs": [],
   "source": [
    "model = MLP()\n",
    "# Create the optimizer\n",
    "### START CODE ###\n",
    "optimizer = torch.optim.Adam(model.parameters(), lr=1e-3)\n",
    "### END CODE ###"
   ]
  },
  {
   "cell_type": "code",
   "execution_count": 10,
   "metadata": {},
   "outputs": [],
   "source": [
    "# Create the loss function instance\n",
    "criterion = torch.nn.BCEWithLogitsLoss()\n",
    "\n",
    "def train(model, loader, optimizer):\n",
    "    model.train()\n",
    "    total_loss = 0\n",
    "    total_num = 0\n",
    "    for data, target in tqdm(loader):\n",
    "        out = model(data)\n",
    "        # Calculate loss based on model output and target\n",
    "        ### START CODE ###\n",
    "        target = target.unsqueeze(1) \n",
    "        loss = criterion(out, target.float())\n",
    "        ### END CODE ###\n",
    "\n",
    "        # Use the optimizer to perform backpropagation\n",
    "        ### START CODE ###\n",
    "        optimizer.zero_grad()\n",
    "        loss.backward()\n",
    "        optimizer.step()\n",
    "        ### END CODE ###\n",
    "\n",
    "        batch_size = len(target)\n",
    "        total_loss += loss.item() * batch_size\n",
    "        total_num += batch_size\n",
    "    avg_loss = total_loss / total_num\n",
    "    return avg_loss\n",
    "\n",
    "@torch.no_grad()\n",
    "def eval(model, loader):\n",
    "    model.eval()\n",
    "    total_loss = 0\n",
    "    total_correct = 0\n",
    "    total_num = 0\n",
    "    for data, target in tqdm(loader):\n",
    "        out = model(data)\n",
    "        # Calculate loss based on model output and target\n",
    "        ### START CODE ###\n",
    "        target = target.unsqueeze(1) \n",
    "        loss = criterion(out, target.float())\n",
    "        ### END CODE ###\n",
    "\n",
    "        # Get model's prediction\n",
    "        ### START CODE ###\n",
    "        pred = torch.sigmoid(out) >= 0.5\n",
    "        ### END CODE ###\n",
    "\n",
    "        # Count number of correct predictions\n",
    "        ### START CODE ###\n",
    "        correct = (pred.float() == target.float()).sum().item()\n",
    "        ### END CODE ###\n",
    "\n",
    "        total_correct += correct\n",
    "        batch_size = len(target)\n",
    "        total_loss += loss.item() * batch_size\n",
    "        total_num += batch_size\n",
    "    avg_loss = total_loss / total_num\n",
    "    acc = total_correct / total_num\n",
    "    return avg_loss, acc\n"
   ]
  },
  {
   "cell_type": "code",
   "execution_count": 11,
   "metadata": {},
   "outputs": [
    {
     "name": "stderr",
     "output_type": "stream",
     "text": [
      "100%|██████████| 53/53 [00:00<00:00, 387.16it/s]\n",
      "100%|██████████| 10/10 [00:00<00:00, 562.58it/s]\n"
     ]
    },
    {
     "name": "stdout",
     "output_type": "stream",
     "text": [
      "Epoch: 1 Train Loss: 0.6545899078217776 Val Loss: 0.62260952576819 Val Acc: 0.657672849915683\n"
     ]
    },
    {
     "name": "stderr",
     "output_type": "stream",
     "text": [
      "100%|██████████| 53/53 [00:00<00:00, 411.64it/s]\n",
      "100%|██████████| 10/10 [00:00<00:00, 545.05it/s]\n"
     ]
    },
    {
     "name": "stdout",
     "output_type": "stream",
     "text": [
      "Epoch: 2 Train Loss: 0.615823891392793 Val Loss: 0.5937818671760431 Val Acc: 0.6884485666104553\n"
     ]
    },
    {
     "name": "stderr",
     "output_type": "stream",
     "text": [
      "100%|██████████| 53/53 [00:00<00:00, 452.84it/s]\n",
      "100%|██████████| 10/10 [00:00<00:00, 474.79it/s]\n"
     ]
    },
    {
     "name": "stdout",
     "output_type": "stream",
     "text": [
      "Epoch: 3 Train Loss: 0.6036770100110662 Val Loss: 0.5860638877794674 Val Acc: 0.6930860033726813\n"
     ]
    },
    {
     "name": "stderr",
     "output_type": "stream",
     "text": [
      "100%|██████████| 53/53 [00:00<00:00, 457.16it/s]\n",
      "100%|██████████| 10/10 [00:00<00:00, 547.91it/s]\n"
     ]
    },
    {
     "name": "stdout",
     "output_type": "stream",
     "text": [
      "Epoch: 4 Train Loss: 0.5982559267560396 Val Loss: 0.5829176081573783 Val Acc: 0.7015177065767285\n"
     ]
    },
    {
     "name": "stderr",
     "output_type": "stream",
     "text": [
      "100%|██████████| 53/53 [00:00<00:00, 450.29it/s]\n",
      "100%|██████████| 10/10 [00:00<00:00, 574.11it/s]\n"
     ]
    },
    {
     "name": "stdout",
     "output_type": "stream",
     "text": [
      "Epoch: 5 Train Loss: 0.5950767238967359 Val Loss: 0.5790067640766124 Val Acc: 0.698566610455312\n"
     ]
    },
    {
     "name": "stderr",
     "output_type": "stream",
     "text": [
      "100%|██████████| 53/53 [00:00<00:00, 445.76it/s]\n",
      "100%|██████████| 10/10 [00:00<00:00, 517.09it/s]\n"
     ]
    },
    {
     "name": "stdout",
     "output_type": "stream",
     "text": [
      "Epoch: 6 Train Loss: 0.5935052493488038 Val Loss: 0.5779997909451013 Val Acc: 0.7086846543001686\n"
     ]
    },
    {
     "name": "stderr",
     "output_type": "stream",
     "text": [
      "100%|██████████| 53/53 [00:00<00:00, 455.65it/s]\n",
      "100%|██████████| 10/10 [00:00<00:00, 566.56it/s]\n"
     ]
    },
    {
     "name": "stdout",
     "output_type": "stream",
     "text": [
      "Epoch: 7 Train Loss: 0.5914416414293933 Val Loss: 0.5780911787364374 Val Acc: 0.7048903878583473\n"
     ]
    },
    {
     "name": "stderr",
     "output_type": "stream",
     "text": [
      "100%|██████████| 53/53 [00:00<00:00, 409.87it/s]\n",
      "100%|██████████| 10/10 [00:00<00:00, 568.23it/s]\n"
     ]
    },
    {
     "name": "stdout",
     "output_type": "stream",
     "text": [
      "Epoch: 8 Train Loss: 0.5908242636550457 Val Loss: 0.5815419016961907 Val Acc: 0.6977234401349073\n"
     ]
    },
    {
     "name": "stderr",
     "output_type": "stream",
     "text": [
      "100%|██████████| 53/53 [00:00<00:00, 283.49it/s]\n",
      "100%|██████████| 10/10 [00:00<00:00, 584.29it/s]\n"
     ]
    },
    {
     "name": "stdout",
     "output_type": "stream",
     "text": [
      "Epoch: 9 Train Loss: 0.5905154591688346 Val Loss: 0.5760636323620055 Val Acc: 0.7065767284991569\n"
     ]
    },
    {
     "name": "stderr",
     "output_type": "stream",
     "text": [
      "100%|██████████| 53/53 [00:00<00:00, 455.53it/s]\n",
      "100%|██████████| 10/10 [00:00<00:00, 499.20it/s]\n"
     ]
    },
    {
     "name": "stdout",
     "output_type": "stream",
     "text": [
      "Epoch: 10 Train Loss: 0.5891067442177963 Val Loss: 0.5762656761261102 Val Acc: 0.704468802698145\n"
     ]
    },
    {
     "name": "stderr",
     "output_type": "stream",
     "text": [
      "100%|██████████| 53/53 [00:00<00:00, 460.19it/s]\n",
      "100%|██████████| 10/10 [00:00<00:00, 572.05it/s]\n"
     ]
    },
    {
     "name": "stdout",
     "output_type": "stream",
     "text": [
      "Epoch: 11 Train Loss: 0.588857774605344 Val Loss: 0.5735794505823724 Val Acc: 0.7082630691399663\n"
     ]
    },
    {
     "name": "stderr",
     "output_type": "stream",
     "text": [
      "100%|██████████| 53/53 [00:00<00:00, 447.26it/s]\n",
      "100%|██████████| 10/10 [00:00<00:00, 570.28it/s]\n"
     ]
    },
    {
     "name": "stdout",
     "output_type": "stream",
     "text": [
      "Epoch: 12 Train Loss: 0.5870473150102073 Val Loss: 0.5785243524266737 Val Acc: 0.7019392917369308\n"
     ]
    },
    {
     "name": "stderr",
     "output_type": "stream",
     "text": [
      "100%|██████████| 53/53 [00:00<00:00, 468.20it/s]\n",
      "100%|██████████| 10/10 [00:00<00:00, 520.45it/s]\n"
     ]
    },
    {
     "name": "stdout",
     "output_type": "stream",
     "text": [
      "Epoch: 13 Train Loss: 0.5858069941954773 Val Loss: 0.5737909104731593 Val Acc: 0.7057335581787522\n"
     ]
    },
    {
     "name": "stderr",
     "output_type": "stream",
     "text": [
      "100%|██████████| 53/53 [00:00<00:00, 467.86it/s]\n",
      "100%|██████████| 10/10 [00:00<00:00, 564.81it/s]\n"
     ]
    },
    {
     "name": "stdout",
     "output_type": "stream",
     "text": [
      "Epoch: 14 Train Loss: 0.5851049801229818 Val Loss: 0.5745324267303763 Val Acc: 0.7023608768971332\n"
     ]
    },
    {
     "name": "stderr",
     "output_type": "stream",
     "text": [
      "100%|██████████| 53/53 [00:00<00:00, 443.98it/s]\n",
      "100%|██████████| 10/10 [00:00<00:00, 550.87it/s]"
     ]
    },
    {
     "name": "stdout",
     "output_type": "stream",
     "text": [
      "Epoch: 15 Train Loss: 0.5840611501378365 Val Loss: 0.5754894655430297 Val Acc: 0.6960370994940978\n"
     ]
    },
    {
     "name": "stderr",
     "output_type": "stream",
     "text": [
      "\n"
     ]
    }
   ],
   "source": [
    "epochs = 15\n",
    "for e in range(1, epochs + 1):\n",
    "    train_loss = train(model, train_loader, optimizer)\n",
    "    val_loss, val_acc = eval(model, val_loader)\n",
    "    print(f\"Epoch: {e} Train Loss: {train_loss} Val Loss: {val_loss} Val Acc: {val_acc}\")"
   ]
  },
  {
   "cell_type": "code",
   "execution_count": 13,
   "metadata": {},
   "outputs": [
    {
     "name": "stdout",
     "output_type": "stream",
     "text": [
      "Test Accuracy: 69.61%\n"
     ]
    }
   ],
   "source": [
    "@torch.no_grad()\n",
    "def test_accuracy(model, loader):\n",
    "    model.eval()\n",
    "    total_correct = 0\n",
    "    total_num = 0\n",
    "    all_preds = []\n",
    "    all_targets = []\n",
    "    all_probs = []  # To store probability estimates\n",
    "\n",
    "    for data, target in loader:\n",
    "        out = model(data)\n",
    "        pred = torch.sigmoid(out) >= 0.5\n",
    "        correct = (pred.float() == target.unsqueeze(1).float()).sum().item()\n",
    "\n",
    "        total_correct += correct\n",
    "        total_num += len(target)\n",
    "\n",
    "        all_preds.extend(pred.view(-1).cpu().numpy())\n",
    "        all_targets.extend(target.cpu().numpy())\n",
    "        all_probs.extend(torch.sigmoid(out).cpu().numpy())  # Store probability estimates\n",
    "\n",
    "    acc = total_correct / total_num\n",
    "    return acc, all_preds, all_targets, all_probs  # Return probability estimates\n",
    "\n",
    "test_acc, all_preds, all_targets, all_probs = test_accuracy(model, test_loader)\n",
    "print(f\"Test Accuracy: {test_acc * 100:.2f}%\")"
   ]
  },
  {
   "cell_type": "code",
   "execution_count": 14,
   "metadata": {},
   "outputs": [],
   "source": [
    "@torch.no_grad()\n",
    "def test_roc_auc(model, loader):\n",
    "    model.eval()\n",
    "    all_preds = []\n",
    "    all_targets = []\n",
    "\n",
    "    for data, target in loader:\n",
    "        out = model(data)\n",
    "        pred = torch.sigmoid(out)\n",
    "        \n",
    "        all_preds.extend(pred.view(-1).cpu().numpy())\n",
    "        all_targets.extend(target.cpu().numpy())\n",
    "\n",
    "    roc_auc = roc_auc_score(all_targets, all_preds)\n",
    "    return roc_auc"
   ]
  },
  {
   "cell_type": "code",
   "execution_count": 15,
   "metadata": {},
   "outputs": [
    {
     "name": "stdout",
     "output_type": "stream",
     "text": [
      "ROC AUC Score on Test Set: 0.7448\n",
      "Brier Score on Test Set: 0.1985\n"
     ]
    }
   ],
   "source": [
    "from sklearn.metrics import brier_score_loss\n",
    "\n",
    "roc_auc = test_roc_auc(model, test_loader)\n",
    "print(f\"ROC AUC Score on Test Set: {roc_auc:.4f}\")\n",
    "\n",
    "# Calculate the Brier Score using probability estimates\n",
    "test_acc, _, _, all_probs = test_accuracy(model, test_loader)\n",
    "brier_score = brier_score_loss(all_targets, all_probs)\n",
    "print(f\"Brier Score on Test Set: {brier_score:.4f}\")"
   ]
  },
  {
   "cell_type": "code",
   "execution_count": 17,
   "metadata": {},
   "outputs": [
    {
     "name": "stderr",
     "output_type": "stream",
     "text": [
      "100%|██████████| 62/62 [00:00<00:00, 450.61it/s]\n",
      "100%|██████████| 10/10 [00:00<00:00, 543.94it/s]\n"
     ]
    },
    {
     "name": "stdout",
     "output_type": "stream",
     "text": [
      "Epoch: 1 Train Loss: 0.5701497789767095 Val Loss: 0.5605200602473537 Val Acc: 0.7133220910623946\n"
     ]
    },
    {
     "name": "stderr",
     "output_type": "stream",
     "text": [
      "100%|██████████| 62/62 [00:00<00:00, 482.47it/s]\n",
      "100%|██████████| 10/10 [00:00<00:00, 583.73it/s]\n"
     ]
    },
    {
     "name": "stdout",
     "output_type": "stream",
     "text": [
      "Epoch: 2 Train Loss: 0.5692620015779186 Val Loss: 0.5550466916613394 Val Acc: 0.7188026981450253\n"
     ]
    },
    {
     "name": "stderr",
     "output_type": "stream",
     "text": [
      "100%|██████████| 62/62 [00:00<00:00, 462.89it/s]\n",
      "100%|██████████| 10/10 [00:00<00:00, 560.03it/s]\n"
     ]
    },
    {
     "name": "stdout",
     "output_type": "stream",
     "text": [
      "Epoch: 3 Train Loss: 0.5684008397320764 Val Loss: 0.5538211610626812 Val Acc: 0.7204890387858347\n"
     ]
    },
    {
     "name": "stderr",
     "output_type": "stream",
     "text": [
      "100%|██████████| 62/62 [00:00<00:00, 474.20it/s]\n",
      "100%|██████████| 10/10 [00:00<00:00, 512.41it/s]\n"
     ]
    },
    {
     "name": "stdout",
     "output_type": "stream",
     "text": [
      "Epoch: 4 Train Loss: 0.5674579834570115 Val Loss: 0.5530990830561363 Val Acc: 0.7225969645868465\n"
     ]
    },
    {
     "name": "stderr",
     "output_type": "stream",
     "text": [
      "100%|██████████| 62/62 [00:00<00:00, 469.68it/s]\n",
      "100%|██████████| 10/10 [00:00<00:00, 572.54it/s]\n"
     ]
    },
    {
     "name": "stdout",
     "output_type": "stream",
     "text": [
      "Epoch: 5 Train Loss: 0.5669258823280776 Val Loss: 0.5516163542942092 Val Acc: 0.7217537942664418\n"
     ]
    },
    {
     "name": "stderr",
     "output_type": "stream",
     "text": [
      "100%|██████████| 62/62 [00:00<00:00, 421.95it/s]\n",
      "100%|██████████| 10/10 [00:00<00:00, 569.05it/s]\n"
     ]
    },
    {
     "name": "stdout",
     "output_type": "stream",
     "text": [
      "Epoch: 6 Train Loss: 0.5657628063089172 Val Loss: 0.5510452958624842 Val Acc: 0.7251264755480608\n"
     ]
    },
    {
     "name": "stderr",
     "output_type": "stream",
     "text": [
      "100%|██████████| 62/62 [00:00<00:00, 475.89it/s]\n",
      "100%|██████████| 10/10 [00:00<00:00, 524.39it/s]\n"
     ]
    },
    {
     "name": "stdout",
     "output_type": "stream",
     "text": [
      "Epoch: 7 Train Loss: 0.5645869630698453 Val Loss: 0.5517455936483348 Val Acc: 0.7217537942664418\n"
     ]
    },
    {
     "name": "stderr",
     "output_type": "stream",
     "text": [
      "100%|██████████| 62/62 [00:00<00:00, 476.99it/s]\n",
      "100%|██████████| 10/10 [00:00<00:00, 571.07it/s]\n"
     ]
    },
    {
     "name": "stdout",
     "output_type": "stream",
     "text": [
      "Epoch: 8 Train Loss: 0.5640584001255536 Val Loss: 0.5507569519102473 Val Acc: 0.7204890387858347\n"
     ]
    },
    {
     "name": "stderr",
     "output_type": "stream",
     "text": [
      "100%|██████████| 62/62 [00:00<00:00, 434.13it/s]\n",
      "100%|██████████| 10/10 [00:00<00:00, 574.97it/s]\n"
     ]
    },
    {
     "name": "stdout",
     "output_type": "stream",
     "text": [
      "Epoch: 9 Train Loss: 0.5632097957844632 Val Loss: 0.5479835434667578 Val Acc: 0.7272344013490725\n"
     ]
    },
    {
     "name": "stderr",
     "output_type": "stream",
     "text": [
      "100%|██████████| 62/62 [00:00<00:00, 461.70it/s]\n",
      "100%|██████████| 10/10 [00:00<00:00, 475.74it/s]\n"
     ]
    },
    {
     "name": "stdout",
     "output_type": "stream",
     "text": [
      "Epoch: 10 Train Loss: 0.5639667852758329 Val Loss: 0.5475742127400828 Val Acc: 0.7204890387858347\n"
     ]
    },
    {
     "name": "stderr",
     "output_type": "stream",
     "text": [
      "100%|██████████| 62/62 [00:00<00:00, 485.11it/s]\n",
      "100%|██████████| 10/10 [00:00<00:00, 564.27it/s]\n"
     ]
    },
    {
     "name": "stdout",
     "output_type": "stream",
     "text": [
      "Epoch: 11 Train Loss: 0.561844787895623 Val Loss: 0.5477325807735449 Val Acc: 0.7225969645868465\n"
     ]
    },
    {
     "name": "stderr",
     "output_type": "stream",
     "text": [
      "100%|██████████| 62/62 [00:00<00:00, 408.00it/s]\n",
      "100%|██████████| 10/10 [00:00<00:00, 518.19it/s]\n"
     ]
    },
    {
     "name": "stdout",
     "output_type": "stream",
     "text": [
      "Epoch: 12 Train Loss: 0.5624257437637413 Val Loss: 0.545435880830678 Val Acc: 0.7221753794266442\n"
     ]
    },
    {
     "name": "stderr",
     "output_type": "stream",
     "text": [
      "100%|██████████| 62/62 [00:00<00:00, 429.34it/s]\n",
      "100%|██████████| 10/10 [00:00<00:00, 477.52it/s]\n"
     ]
    },
    {
     "name": "stdout",
     "output_type": "stream",
     "text": [
      "Epoch: 13 Train Loss: 0.5602739465454559 Val Loss: 0.5438731975137283 Val Acc: 0.7276559865092749\n"
     ]
    },
    {
     "name": "stderr",
     "output_type": "stream",
     "text": [
      "100%|██████████| 62/62 [00:00<00:00, 326.40it/s]\n",
      "100%|██████████| 10/10 [00:00<00:00, 583.36it/s]\n"
     ]
    },
    {
     "name": "stdout",
     "output_type": "stream",
     "text": [
      "Epoch: 14 Train Loss: 0.5590830655984925 Val Loss: 0.5450694376059366 Val Acc: 0.71964586846543\n"
     ]
    },
    {
     "name": "stderr",
     "output_type": "stream",
     "text": [
      "100%|██████████| 62/62 [00:00<00:00, 480.84it/s]\n",
      "100%|██████████| 10/10 [00:00<00:00, 570.23it/s]\n"
     ]
    },
    {
     "name": "stdout",
     "output_type": "stream",
     "text": [
      "Epoch: 15 Train Loss: 0.5580706781397342 Val Loss: 0.547989717120867 Val Acc: 0.7141652613827993\n",
      "Test Accuracy: 71.10%\n"
     ]
    }
   ],
   "source": [
    "epochs = 15\n",
    "for e in range(1, epochs + 1):\n",
    "    train_loss = train(model, total_train_loader, optimizer)  # Use total_train_loader\n",
    "    val_loss, val_acc = eval(model, val_loader)\n",
    "    print(f\"Epoch: {e} Train Loss: {train_loss} Val Loss: {val_loss} Val Acc: {val_acc}\")\n",
    "\n",
    "# After training, evaluate on the test set\n",
    "test_acc, all_preds, all_targets, all_probs = test_accuracy(model, test_loader)\n",
    "print(f\"Test Accuracy: {test_acc * 100:.2f}%\")\n"
   ]
  },
  {
   "cell_type": "code",
   "execution_count": 18,
   "metadata": {},
   "outputs": [
    {
     "data": {
      "image/png": "[encoded data removed]",
      "text/plain": [
       "<Figure size 600x600 with 2 Axes>"
      ]
     },
     "metadata": {},
     "output_type": "display_data"
    }
   ],
   "source": [
    "# Calculate the confusion matrix\n",
    "cm = confusion_matrix(all_targets, all_preds)\n",
    "\n",
    "# Plotting the confusion matrix\n",
    "plt.figure(figsize=(6, 6))\n",
    "sns.heatmap(cm, annot=True, fmt=\"d\", cmap=\"Blues\")\n",
    "plt.title(\"Confusion Matrix\")\n",
    "plt.xlabel(\"Predicted Label\")\n",
    "plt.ylabel(\"True Label\")\n",
    "plt.show()\n"
   ]
  },
  {
   "cell_type": "code",
   "execution_count": 19,
   "metadata": {},
   "outputs": [
    {
     "name": "stdout",
     "output_type": "stream",
     "text": [
      "ROC AUC Score on Test Set: 0.7720\n"
     ]
    }
   ],
   "source": [
    "@torch.no_grad()\n",
    "def test_roc_auc(model, loader):\n",
    "    model.eval()\n",
    "    all_preds = []\n",
    "    all_targets = []\n",
    "\n",
    "    for data, target in loader:\n",
    "        out = model(data)\n",
    "        pred = torch.sigmoid(out)\n",
    "        \n",
    "        all_preds.extend(pred.view(-1).cpu().numpy())\n",
    "        all_targets.extend(target.cpu().numpy())\n",
    "\n",
    "    roc_auc = roc_auc_score(all_targets, all_preds)\n",
    "    return roc_auc\n",
    "\n",
    "roc_auc = test_roc_auc(model, test_loader)\n",
    "print(f\"ROC AUC Score on Test Set: {roc_auc:.4f}\")"
   ]
  }
 ],
 "metadata": {
  "kernelspec": {
   "display_name": "ece381",
   "language": "python",
   "name": "python3"
  },
  "language_info": {
   "codemirror_mode": {
    "name": "ipython",
    "version": 3
   },
   "file_extension": ".py",
   "mimetype": "text/x-python",
   "name": "python",
   "nbconvert_exporter": "python",
   "pygments_lexer": "ipython3",
   "version": "3.10.9"
  }
 },
 "nbformat": 4,
 "nbformat_minor": 2
}
