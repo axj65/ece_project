{
 "cells": [
  {
   "cell_type": "code",
   "execution_count": 1,
   "metadata": {},
   "outputs": [
    {
     "name": "stderr",
     "output_type": "stream",
     "text": [
      "c:\\Users\\alber\\miniconda3\\envs\\ece381\\lib\\site-packages\\tqdm\\auto.py:21: TqdmWarning: IProgress not found. Please update jupyter and ipywidgets. See https://ipywidgets.readthedocs.io/en/stable/user_install.html\n",
      "  from .autonotebook import tqdm as notebook_tqdm\n"
     ]
    }
   ],
   "source": [
    "import pandas as pd\n",
    "import numpy as np\n",
    "import optuna\n",
    "from catboost import CatBoostClassifier\n",
    "\n",
    "from sklearn.model_selection import train_test_split\n",
    "from sklearn.preprocessing import StandardScaler\n",
    "from sklearn.model_selection import KFold\n",
    "from sklearn.metrics import accuracy_score, confusion_matrix, roc_auc_score, roc_curve, auc\n",
    "from sklearn.metrics import brier_score_loss\n",
    "from sklearn.calibration import calibration_curve\n",
    "\n",
    "\n",
    "from tqdm import tqdm\n",
    "import matplotlib.pyplot as plt\n",
    "import seaborn as sns\n",
    "\n",
    "#import data\n",
    "df = pd.read_csv('data/Recidivism_Data_cleaned.csv')\n",
    "df_original = df.copy()"
   ]
  },
  {
   "cell_type": "code",
   "execution_count": 2,
   "metadata": {},
   "outputs": [],
   "source": [
    "# We only want to predict recidivism within 3 years\n",
    "#We are also looking at just Males\n",
    "df.drop(['Recidivism_Arrest_Year1', 'Recidivism_Arrest_Year2', 'Recidivism_Arrest_Year3', 'Gender'], axis=1, inplace=True)\n",
    "\n",
    "# Remove variables that are determined only after prison release\n",
    "df.drop(['Supervision_Risk_Score_First', 'Supervision_Level_First',\n",
    "         'Violations_ElectronicMonitoring', 'Violations_FailToReport','Violations_FailToReport', 'Violations_MoveWithoutPermission',\n",
    "         'Delinquency_Reports', 'Program_Attendances', 'Program_UnexcusedAbsences','Residence_Changes', \n",
    "         'DrugTests_THC_Positive', 'DrugTests_Cocaine_Positive','DrugTests_Meth_Positive', 'DrugTests_Other_Positive', \n",
    "         'Percent_Days_Employed', 'Jobs_Per_Year', 'Employment_Exempt'], axis=1, inplace=True)\n",
    "\n",
    "#Split Train and Test Data\n",
    "train_df = df[df['Training_Sample'] == 1]\n",
    "test_df = df[df['Training_Sample'] == 0]\n",
    "\n",
    "X_train = train_df.drop(['Recidivism_Within_3years', 'Training_Sample'], axis=1)\n",
    "y_train = train_df['Recidivism_Within_3years']\n",
    "\n",
    "X_test = test_df.drop(['Recidivism_Within_3years', 'Training_Sample'], axis=1)\n",
    "y_test = test_df['Recidivism_Within_3years']"
   ]
  },
  {
   "cell_type": "code",
   "execution_count": 3,
   "metadata": {},
   "outputs": [],
   "source": [
    "#Cat Features if post parole features are removed\n",
    "cat_features = ['Race', 'Residence_PUMA', 'Gang_Affiliated',\n",
    "       'Education_Level', 'Prison_Offense',\n",
    "       'Prior_Arrest_Episodes_Felony', 'Prior_Arrest_Episodes_Misd',\n",
    "       'Prior_Arrest_Episodes_Violent', 'Prior_Arrest_Episodes_Property',\n",
    "       'Prior_Arrest_Episodes_Drug',\n",
    "       'Prior_Arrest_Episodes_PPViolationCharges',\n",
    "       'Prior_Arrest_Episodes_DVCharges', 'Prior_Arrest_Episodes_GunCharges',\n",
    "       'Prior_Conviction_Episodes_Felony', 'Prior_Conviction_Episodes_Misd',\n",
    "       'Prior_Conviction_Episodes_Viol', 'Prior_Conviction_Episodes_Prop',\n",
    "       'Prior_Conviction_Episodes_Drug',\n",
    "       'Prior_Conviction_Episodes_PPViolationCharges',\n",
    "       'Prior_Conviction_Episodes_DomesticViolenceCharges',\n",
    "       'Prior_Conviction_Episodes_GunCharges', 'Prior_Revocations_Parole',\n",
    "       'Prior_Revocations_Probation', 'Condition_MH_SA', 'Condition_Cog_Ed',\n",
    "       'Condition_Other', 'Violations_Instruction', 'Required_DrugTests']\n"
   ]
  },
  {
   "cell_type": "code",
   "execution_count": null,
   "metadata": {},
   "outputs": [],
   "source": [
    "#Cat Features if post parole features are included\n",
    "cat_features = ['Race', 'Residence_PUMA', 'Gang_Affiliated',\n",
    "       'Education_Level', 'Prison_Offense',\n",
    "       'Prior_Arrest_Episodes_Felony', 'Prior_Arrest_Episodes_Misd',\n",
    "       'Prior_Arrest_Episodes_Violent', 'Prior_Arrest_Episodes_Property',\n",
    "       'Prior_Arrest_Episodes_Drug',\n",
    "       'Prior_Arrest_Episodes_PPViolationCharges',\n",
    "       'Prior_Arrest_Episodes_DVCharges', 'Prior_Arrest_Episodes_GunCharges',\n",
    "       'Prior_Conviction_Episodes_Felony', 'Prior_Conviction_Episodes_Misd',\n",
    "       'Prior_Conviction_Episodes_Viol', 'Prior_Conviction_Episodes_Prop',\n",
    "       'Prior_Conviction_Episodes_Drug',\n",
    "       'Prior_Conviction_Episodes_PPViolationCharges',\n",
    "       'Prior_Conviction_Episodes_DomesticViolenceCharges',\n",
    "       'Prior_Conviction_Episodes_GunCharges', 'Prior_Revocations_Parole',\n",
    "       'Prior_Revocations_Probation', 'Condition_MH_SA', 'Condition_Cog_Ed',\n",
    "       'Condition_Other', 'Violations_Instruction', 'Required_DrugTests', \n",
    "       'DrugTests_THC_Positive', 'DrugTests_Cocaine_Positive','DrugTests_Meth_Positive', 'DrugTests_Other_Positive',\n",
    "       'Employment_Exempt', 'Violations_ElectronicMonitoring', 'Violations_FailToReport','Violations_FailToReport', \n",
    "       'Violations_MoveWithoutPermission', 'Supervision_Level_First']\n"
   ]
  },
  {
   "cell_type": "code",
   "execution_count": 4,
   "metadata": {},
   "outputs": [],
   "source": [
    "#Hyperparameter Tuning Function\n",
    "def objective(trial):\n",
    "    param = {\n",
    "        'iterations': 2500,  #trial.suggest_int('iterations', 100, 10000),\n",
    "        'learning_rate': trial.suggest_float('learning_rate', 1e-3, 0.1, log=True),\n",
    "        'depth': trial.suggest_int('depth', 4, 10),\n",
    "        'l2_leaf_reg': trial.suggest_float('l2_leaf_reg', 1e-3, 10.0),\n",
    "        # Add more parameters here if needed\n",
    "    }\n",
    "\n",
    "    model = CatBoostClassifier(**param, loss_function='Logloss', verbose=False)\n",
    "    model.fit(X_train, y_train, cat_features=cat_features)\n",
    "    \n",
    "    y_prob = model.predict_proba(X_test)[:, 1]\n",
    "    roc_auc = roc_auc_score(y_test, y_prob)\n",
    "\n",
    "    return roc_auc\n"
   ]
  },
  {
   "cell_type": "code",
   "execution_count": 5,
   "metadata": {},
   "outputs": [
    {
     "name": "stderr",
     "output_type": "stream",
     "text": [
      "[I 2023-11-29 22:05:04,866] A new study created in memory with name: no-name-546272ce-9055-4067-96bd-5328651d031c\n",
      "[I 2023-11-29 22:06:17,271] Trial 0 finished with value: 0.7302239337806378 and parameters: {'learning_rate': 0.00468488764896517, 'depth': 4, 'l2_leaf_reg': 1.1515623336987726}. Best is trial 0 with value: 0.7302239337806378.\n",
      "[I 2023-11-29 22:07:55,414] Trial 1 finished with value: 0.7313742206924949 and parameters: {'learning_rate': 0.024259542253144604, 'depth': 5, 'l2_leaf_reg': 0.29553855859279143}. Best is trial 1 with value: 0.7313742206924949.\n",
      "[I 2023-11-29 22:10:16,247] Trial 2 finished with value: 0.7272090277374523 and parameters: {'learning_rate': 0.03358062177447614, 'depth': 6, 'l2_leaf_reg': 2.987557025210064}. Best is trial 1 with value: 0.7313742206924949.\n",
      "[I 2023-11-29 22:15:03,215] Trial 3 finished with value: 0.7146691055494261 and parameters: {'learning_rate': 0.04847103154409602, 'depth': 10, 'l2_leaf_reg': 3.0960773236353196}. Best is trial 1 with value: 0.7313742206924949.\n"
     ]
    }
   ],
   "source": [
    "# Tune hyperparameters\n",
    "study = optuna.create_study(direction='maximize')\n",
    "study.optimize(objective, n_trials=20)  # You can change the number of trials\n",
    "\n",
    "best_params = study.best_params\n",
    "print('Best parameters:', best_params)\n"
   ]
  },
  {
   "cell_type": "code",
   "execution_count": null,
   "metadata": {},
   "outputs": [],
   "source": [
    "#Train Model with Best Parameters with all features\n",
    "\n",
    "model = CatBoostClassifier(\n",
    "    iterations=2500, \n",
    "    learning_rate=0.046300532196226735, \n",
    "    depth=4,\n",
    "    l2_leaf_reg=5.365114424519505,\n",
    "    loss_function='Logloss',\n",
    "    verbose=True\n",
    ")\n",
    "\n",
    "model.fit(X_train, y_train, cat_features=cat_features)"
   ]
  },
  {
   "cell_type": "code",
   "execution_count": null,
   "metadata": {},
   "outputs": [],
   "source": [
    "#Train Model with Best Parameters removing features that are determined after prison release\n",
    "\n",
    "model = CatBoostClassifier(\n",
    "    iterations=2500, \n",
    "    learning_rate=0.024259542253144604, \n",
    "    depth=5,\n",
    "    l2_leaf_reg=0.29553855859279143,\n",
    "    loss_function='Logloss',\n",
    "    verbose=True\n",
    ")\n",
    "\n",
    "model.fit(X_train, y_train, cat_features=cat_features)"
   ]
  },
  {
   "cell_type": "code",
   "execution_count": null,
   "metadata": {},
   "outputs": [],
   "source": [
    "# Make predictions\n",
    "\n",
    "y_prob = model.predict_proba(X_test)[:, 1]  # Probability estimates\n",
    "y_pred = y_prob > 0.5 # Threshold predictions\n",
    "\n",
    "# Evaluate the model\n",
    "roc_auc = roc_auc_score(y_test, y_prob)\n",
    "accuracy = accuracy_score(y_test, y_pred)\n",
    "brier_score = brier_score_loss(y_test, y_prob)\n",
    "\n",
    "print(f'ROC AUC Score: {roc_auc:.4f}')\n",
    "print(f'Accuracy: {accuracy:.4f}')\n",
    "print(f'Brier Score: {brier_score:.4f}')\n"
   ]
  },
  {
   "cell_type": "code",
   "execution_count": null,
   "metadata": {},
   "outputs": [],
   "source": [
    "fpr, tpr, thresholds = roc_curve(y_test, y_prob)\n",
    "roc_auc = roc_auc_score(y_test, y_prob)\n",
    "\n",
    "plt.figure(figsize=(8, 6))\n",
    "plt.plot(fpr, tpr, color='darkorange', lw=2, label=f'ROC curve (AUC = {roc_auc:.2f})')\n",
    "plt.plot([0, 1], [0, 1], color='navy', lw=2, linestyle='--')\n",
    "plt.xlim([0.0, 1.0])\n",
    "plt.ylim([0.0, 1.05])\n",
    "plt.xlabel('False Positive Rate')\n",
    "plt.ylabel('True Positive Rate')\n",
    "plt.title('Receiver Operating Characteristic (ROC) Curve')\n",
    "plt.legend(loc='lower right')\n",
    "plt.show()"
   ]
  },
  {
   "cell_type": "code",
   "execution_count": null,
   "metadata": {},
   "outputs": [],
   "source": [
    "# Generate the confusion matrix\n",
    "conf_matrix = confusion_matrix(y_test, y_pred)\n",
    "\n",
    "# Plot the confusion matrix as a heatmap\n",
    "plt.figure(figsize=(8, 6))\n",
    "sns.heatmap(conf_matrix, annot=True, fmt='d', cmap='Blues', cbar=False,\n",
    "            xticklabels=['Predicted Negative', 'Predicted Positive'],\n",
    "            yticklabels=['Actual Negative', 'Actual Positive'])\n",
    "plt.xlabel('Predicted')\n",
    "plt.ylabel('Actual')\n",
    "plt.title('Confusion Matrix')\n",
    "plt.show()"
   ]
  },
  {
   "cell_type": "code",
   "execution_count": null,
   "metadata": {},
   "outputs": [],
   "source": [
    "\n",
    "# Generate the calibration curve\n",
    "prob_true, prob_pred = calibration_curve(y_test, y_prob, n_bins=10, strategy='uniform')\n",
    "\n",
    "# Create a calibration plot\n",
    "plt.figure(figsize=(8, 6))\n",
    "plt.plot(prob_pred, prob_true, marker='o', linestyle='-', label='Calibration Plot')\n",
    "plt.plot([0, 1], [0, 1], linestyle='--', color='gray', label='Perfectly Calibrated')\n",
    "plt.xlabel('Mean Predicted Probability')\n",
    "plt.ylabel('Fraction of Positives')\n",
    "plt.title('Calibration Plot')\n",
    "plt.legend()\n",
    "plt.show()"
   ]
  }
 ],
 "metadata": {
  "kernelspec": {
   "display_name": "me397_py310",
   "language": "python",
   "name": "python3"
  },
  "language_info": {
   "codemirror_mode": {
    "name": "ipython",
    "version": 3
   },
   "file_extension": ".py",
   "mimetype": "text/x-python",
   "name": "python",
   "nbconvert_exporter": "python",
   "pygments_lexer": "ipython3",
   "version": "3.10.12"
  }
 },
 "nbformat": 4,
 "nbformat_minor": 2
}
