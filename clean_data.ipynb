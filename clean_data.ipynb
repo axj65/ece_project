{
 "cells": [
  {
   "cell_type": "code",
   "execution_count": 1,
   "metadata": {},
   "outputs": [],
   "source": [
    "import pandas as pd\n",
    "import numpy as np\n",
    "#import data\n",
    "df = pd.read_csv('data/Recidivism_Full_Dataset.csv')"
   ]
  },
  {
   "cell_type": "markdown",
   "metadata": {},
   "source": [
    "### Looking at just Males since many values are missing for females"
   ]
  },
  {
   "cell_type": "code",
   "execution_count": 2,
   "metadata": {},
   "outputs": [],
   "source": [
    "# Take out the 3167 female observations so only male prisoners are left in the dataframe\n",
    "# Note that some data such as 'Gang_Affiliated' do not have data for female offenders\n",
    "df = df[df['Gender']=='M']"
   ]
  },
  {
   "cell_type": "markdown",
   "metadata": {},
   "source": [
    "### Clean Drug Test Data"
   ]
  },
  {
   "cell_type": "code",
   "execution_count": 3,
   "metadata": {},
   "outputs": [],
   "source": [
    "#If values of Drugs Test results were NaN, it means the offender did not require drug tests\n",
    "#Create a new column for whether individuals were required to conduct drug tests\n",
    "df['Required_DrugTests'] = np.where(df['DrugTests_Other_Positive'].isna(), 0, 1)\n",
    "\n",
    "#Change all values of Drug Tests to 1 if they were positive and 0 otherwise \n",
    "df['DrugTests_THC_Positive'] = np.where(df['DrugTests_THC_Positive'] > 0, 1, 0)\n",
    "df['DrugTests_Cocaine_Positive'] = np.where(df['DrugTests_Cocaine_Positive'] > 0, 1, 0)\n",
    "df['DrugTests_Meth_Positive'] = np.where(df['DrugTests_Meth_Positive'] > 0, 1, 0)\n",
    "df['DrugTests_Other_Positive'] = np.where(df['DrugTests_Other_Positive'] > 0, 1, 0)\n"
   ]
  },
  {
   "cell_type": "markdown",
   "metadata": {},
   "source": [
    "### Clean Employement Data"
   ]
  },
  {
   "cell_type": "code",
   "execution_count": 4,
   "metadata": {},
   "outputs": [],
   "source": [
    "# Clean Employment Data\n",
    "\n",
    "# If an individual was not employed, then they had 0 jobs per year; this is to help fill some NaN values\n",
    "df.loc[df['Percent_Days_Employed'] == 0, 'Jobs_Per_Year'] = 0\n",
    "\n",
    "#Fill Remainder of NaN values for Percent_Days_Employed and Jobs_Per_Year with median\n",
    "df['Percent_Days_Employed'].fillna(df['Percent_Days_Employed'].median(), inplace=True)\n",
    "df['Jobs_Per_Year'].fillna(df['Jobs_Per_Year'].median(), inplace=True)"
   ]
  },
  {
   "cell_type": "markdown",
   "metadata": {},
   "source": [
    "### Clean Supervision Data"
   ]
  },
  {
   "cell_type": "code",
   "execution_count": 5,
   "metadata": {},
   "outputs": [],
   "source": [
    "#Note that we can impute Supervision_Risk_Score_First based on Supervision_Level_First and vice versa because certain scores are always associated with certain levels\n",
    "\n",
    "# Fill NaN in 'Supervision_Level_First' based on 'Supervision_Risk_Score_First'\n",
    "conditions = [\n",
    "    (df['Supervision_Risk_Score_First'].between(1, 5)) & (df['Supervision_Level_First'].isna()),\n",
    "    (df['Supervision_Risk_Score_First'].between(6, 8)) & (df['Supervision_Level_First'].isna()),\n",
    "    (df['Supervision_Risk_Score_First'].between(9, 10)) & (df['Supervision_Level_First'].isna())\n",
    "]\n",
    "choices = ['Standard', 'High', 'Specialized']\n",
    "df['Supervision_Level_First'] = np.select(conditions, choices, default=df['Supervision_Level_First'])\n",
    "\n",
    "# Fill NaN in 'Supervision_Risk_Score_First' based on 'Supervision_Level_First'\n",
    "conditions = [\n",
    "    (df['Supervision_Level_First'] == 'Standard') & (df['Supervision_Risk_Score_First'].isna()),\n",
    "    (df['Supervision_Level_First'] == 'High') & (df['Supervision_Risk_Score_First'].isna()),\n",
    "    (df['Supervision_Level_First'] == 'Specialized') & (df['Supervision_Risk_Score_First'].isna())\n",
    "]\n",
    "choices = [3, 7, 9]\n",
    "df['Supervision_Risk_Score_First'] = np.select(conditions, choices, default=df['Supervision_Risk_Score_First'])"
   ]
  },
  {
   "cell_type": "code",
   "execution_count": 6,
   "metadata": {},
   "outputs": [],
   "source": [
    "# Impute remaining NaN values in 'Supervision_Risk_Score_First' with the median\n",
    "df['Supervision_Risk_Score_First'].fillna(df['Supervision_Risk_Score_First'].median(), inplace=True)\n",
    "\n",
    "# Impute remaining NaN values in 'Supervision_Level_First' with the mode\n",
    "df['Supervision_Level_First'].fillna(df['Supervision_Level_First'].mode()[0], inplace=True)"
   ]
  },
  {
   "cell_type": "markdown",
   "metadata": {},
   "source": [
    "### Clean Numerical Data"
   ]
  },
  {
   "cell_type": "code",
   "execution_count": 7,
   "metadata": {},
   "outputs": [],
   "source": [
    "# Function to replace specific strings with other strings and then convert to integer\n",
    "def replace_and_convert_to_int(df, column, replacements):\n",
    "    for old_value, new_value in replacements.items():\n",
    "        df[column] = df[column].replace(old_value, new_value)\n",
    "    df[column] = pd.to_numeric(df[column], errors='coerce').astype('Int64')  # Convert to integer\n",
    "\n",
    "# Define replacements and apply the function\n",
    "replace_and_convert_to_int(df, 'Dependents', {'3 or more': '3'})\n",
    "\n",
    "replace_and_convert_to_int(df, 'Prior_Arrest_Episodes_Felony', {'10 or more': '10'})\n",
    "replace_and_convert_to_int(df, 'Prior_Arrest_Episodes_Misd', {'6 or more': '6'})\n",
    "replace_and_convert_to_int(df, 'Prior_Arrest_Episodes_Violent', {'3 or more': '3'})\n",
    "replace_and_convert_to_int(df, 'Prior_Arrest_Episodes_Property', {'5 or more': '5'})\n",
    "replace_and_convert_to_int(df, 'Prior_Arrest_Episodes_Drug', {'5 or more': '5'})\n",
    "replace_and_convert_to_int(df, 'Prior_Arrest_Episodes_PPViolationCharges', {'5 or more': '5'})\n",
    "\n",
    "replace_and_convert_to_int(df, 'Prior_Conviction_Episodes_Felony', {'3 or more': '3'})\n",
    "replace_and_convert_to_int(df, 'Prior_Conviction_Episodes_Misd', {'4 or more': '4'})\n",
    "replace_and_convert_to_int(df, 'Prior_Conviction_Episodes_Prop', {'3 or more': '3'})\n",
    "replace_and_convert_to_int(df, 'Prior_Conviction_Episodes_Drug', {'2 or more': '2'})\n",
    "\n",
    "replace_and_convert_to_int(df, 'Delinquency_Reports', {'4 or more': '4'})\n",
    "replace_and_convert_to_int(df, 'Program_Attendances', {'10 or more': '10'})\n",
    "replace_and_convert_to_int(df, 'Program_UnexcusedAbsences', {'3 or more': '3'})\n",
    "replace_and_convert_to_int(df, 'Residence_Changes', {'3 or more': '3'})"
   ]
  },
  {
   "cell_type": "code",
   "execution_count": 8,
   "metadata": {},
   "outputs": [],
   "source": [
    "# 'Prison_Years' has multiple conditions so we do this manually rather than use the function\n",
    "df['Prison_Years'] = df['Prison_Years'].replace({\n",
    "    'Less than 1 year': '1', \n",
    "    '1-2 years': '2', \n",
    "    'Greater than 2 to 3 years': '3', \n",
    "    'More than 3 years': '4'\n",
    "})\n",
    "df['Prison_Years'] = pd.to_numeric(df['Prison_Years'], errors='coerce').astype('Int64')"
   ]
  },
  {
   "cell_type": "code",
   "execution_count": 9,
   "metadata": {},
   "outputs": [],
   "source": [
    "#Currently, the age range is a string with the lower and upper bounds separated by a dash\n",
    "#This will just take the midpoint of the range and replace the string with an integer\n",
    "\n",
    "# Function to calculate the midpoint of an age range\n",
    "def calculate_midpoint(age_range):\n",
    "    # If the age range is '48 or older', use 55 as the midpoint\n",
    "    if age_range == \"48 or older\":\n",
    "        return 55\n",
    "    else:\n",
    "        lower, upper = age_range.split('-')\n",
    "        return (int(lower) + int(upper)) / 2\n",
    "    \n",
    "# Apply the function to each row in the 'Age_at_Release' column\n",
    "df['Age_at_Release'] = df['Age_at_Release'].apply(calculate_midpoint)\n",
    "\n",
    "# df now contains a new column 'Age_at_Release_Midpoint' with the midpoints of the age ranges\n"
   ]
  },
  {
   "cell_type": "markdown",
   "metadata": {},
   "source": [
    "### Clean Categorical Data"
   ]
  },
  {
   "cell_type": "code",
   "execution_count": 10,
   "metadata": {},
   "outputs": [],
   "source": [
    "# Fill NaN values in 'Prison_Offense' with 'Unknown'\n",
    "df['Prison_Offense'] = df['Prison_Offense'].fillna('Unknown')"
   ]
  },
  {
   "cell_type": "markdown",
   "metadata": {},
   "source": [
    "### Drop Columns"
   ]
  },
  {
   "cell_type": "code",
   "execution_count": 11,
   "metadata": {},
   "outputs": [],
   "source": [
    "# No value in the ID variable that just numbers the rows\n",
    "#Avg_Days_per_DrugTest was replaced by categorical variable Required_DrugTests\n",
    "\n",
    "df.drop(['ID', 'Avg_Days_per_DrugTest'], axis=1, inplace=True)"
   ]
  },
  {
   "cell_type": "markdown",
   "metadata": {},
   "source": [
    "### Save to csv"
   ]
  },
  {
   "cell_type": "code",
   "execution_count": 12,
   "metadata": {},
   "outputs": [],
   "source": [
    "# Save df as a csv file\n",
    "df.to_csv('data/Recidivism_Data_Cleaned.csv', index=False)"
   ]
  }
 ],
 "metadata": {
  "kernelspec": {
   "display_name": "ece381",
   "language": "python",
   "name": "python3"
  },
  "language_info": {
   "codemirror_mode": {
    "name": "ipython",
    "version": 3
   },
   "file_extension": ".py",
   "mimetype": "text/x-python",
   "name": "python",
   "nbconvert_exporter": "python",
   "pygments_lexer": "ipython3",
   "version": "3.10.12"
  }
 },
 "nbformat": 4,
 "nbformat_minor": 2
}
